{
 "cells": [
  {
   "cell_type": "code",
   "execution_count": 55,
   "id": "0b1b5f6d-8d24-48d8-aadf-895783c867f9",
   "metadata": {},
   "outputs": [
    {
     "name": "stdout",
     "output_type": "stream",
     "text": [
      "0\n"
     ]
    }
   ],
   "source": [
    "\n",
    "import os\n",
    "\n",
    "os.environ[\"CUDA_VISIBLE_DEVICES\"]=\"0\"\n",
    "print(os.environ[\"CUDA_VISIBLE_DEVICES\"])"
   ]
  },
  {
   "cell_type": "code",
   "execution_count": 56,
   "id": "4bc94184-5ec4-4b34-9cc2-e10a101a2023",
   "metadata": {},
   "outputs": [],
   "source": [
    "from pathlib import Path\n",
    "import ast\n",
    "\n",
    "import numpy as np\n",
    "import pandas as pd"
   ]
  },
  {
   "cell_type": "code",
   "execution_count": 57,
   "id": "8eecb9c4-0868-41a2-adf5-6a51b12aebcf",
   "metadata": {},
   "outputs": [],
   "source": [
    "def split_list(alist, startswith):\n",
    "    split_start_idx = [i for i, s in enumerate(alist) if s.startswith(startswith)]\n",
    "    split_end_idx = split_start_idx[1:] + [len(alist)]\n",
    "    split_lines = [alist[i:j] for i, j in zip(split_start_idx, split_end_idx)]\n",
    "    return split_lines"
   ]
  },
  {
   "cell_type": "code",
   "execution_count": 63,
   "id": "cff8f010-adb7-4ea2-955d-0b124e430163",
   "metadata": {},
   "outputs": [
    {
     "data": {
      "text/plain": [
       "['wandb artifacts and data saved in \\n',\n",
       " '/gscratch3/users/nmishra/gridsearch_revisedcateg \\n',\n",
       " 'and rest in /gaueko0/users/nmishra/multiling_fludetection/evals/gridsearch_revisedcateg\\n',\n",
       " '\\n',\n",
       " 'Number of tweets in data: 4284\\n']"
      ]
     },
     "execution_count": 63,
     "metadata": {},
     "output_type": "execute_result"
    }
   ],
   "source": [
    "LOG_PATH = Path('/gaueko0/users/nmishra/multiling_fludetection/logs')\n",
    "LOG_NUM = '9350'\n",
    "file = open(LOG_PATH.joinpath(f'{LOG_NUM}.out'), 'r')\n",
    "lines = file.readlines()\n",
    "lines[:5]"
   ]
  },
  {
   "cell_type": "code",
   "execution_count": 64,
   "id": "4b5c9c9a-2164-45f3-b90d-170e81a7915f",
   "metadata": {},
   "outputs": [
    {
     "name": "stdout",
     "output_type": "stream",
     "text": [
      "6\n"
     ]
    }
   ],
   "source": [
    "training_language = split_list(alist=lines, startswith=\"Training data used for \")\n",
    "print(len(training_language))"
   ]
  },
  {
   "cell_type": "code",
   "execution_count": 65,
   "id": "02fff6ba-9dc0-4761-95e7-1b56703ac800",
   "metadata": {},
   "outputs": [
    {
     "name": "stdout",
     "output_type": "stream",
     "text": [
      "all\n",
      "de\n",
      "en\n",
      "es\n",
      "fr\n",
      "it\n"
     ]
    },
    {
     "data": {
      "text/html": [
       "<div>\n",
       "<style scoped>\n",
       "    .dataframe tbody tr th:only-of-type {\n",
       "        vertical-align: middle;\n",
       "    }\n",
       "\n",
       "    .dataframe tbody tr th {\n",
       "        vertical-align: top;\n",
       "    }\n",
       "\n",
       "    .dataframe thead th {\n",
       "        text-align: right;\n",
       "    }\n",
       "</style>\n",
       "<table border=\"1\" class=\"dataframe\">\n",
       "  <thead>\n",
       "    <tr style=\"text-align: right;\">\n",
       "      <th></th>\n",
       "      <th>eval_loss</th>\n",
       "      <th>eval_f1</th>\n",
       "      <th>epoch</th>\n",
       "      <th>batch_size</th>\n",
       "      <th>learning_rate</th>\n",
       "      <th>model_name</th>\n",
       "      <th>trained_on</th>\n",
       "    </tr>\n",
       "  </thead>\n",
       "  <tbody>\n",
       "    <tr>\n",
       "      <th>0</th>\n",
       "      <td>0.292151</td>\n",
       "      <td>0.864522</td>\n",
       "      <td>1.0</td>\n",
       "      <td>32</td>\n",
       "      <td>0.000054</td>\n",
       "      <td>bernice</td>\n",
       "      <td>all</td>\n",
       "    </tr>\n",
       "    <tr>\n",
       "      <th>1</th>\n",
       "      <td>0.396538</td>\n",
       "      <td>0.858083</td>\n",
       "      <td>2.0</td>\n",
       "      <td>32</td>\n",
       "      <td>0.000054</td>\n",
       "      <td>bernice</td>\n",
       "      <td>all</td>\n",
       "    </tr>\n",
       "    <tr>\n",
       "      <th>2</th>\n",
       "      <td>0.464542</td>\n",
       "      <td>0.881948</td>\n",
       "      <td>3.0</td>\n",
       "      <td>32</td>\n",
       "      <td>0.000054</td>\n",
       "      <td>bernice</td>\n",
       "      <td>all</td>\n",
       "    </tr>\n",
       "    <tr>\n",
       "      <th>3</th>\n",
       "      <td>0.572202</td>\n",
       "      <td>0.872443</td>\n",
       "      <td>4.0</td>\n",
       "      <td>32</td>\n",
       "      <td>0.000054</td>\n",
       "      <td>bernice</td>\n",
       "      <td>all</td>\n",
       "    </tr>\n",
       "    <tr>\n",
       "      <th>4</th>\n",
       "      <td>0.751824</td>\n",
       "      <td>0.869717</td>\n",
       "      <td>5.0</td>\n",
       "      <td>32</td>\n",
       "      <td>0.000054</td>\n",
       "      <td>bernice</td>\n",
       "      <td>all</td>\n",
       "    </tr>\n",
       "  </tbody>\n",
       "</table>\n",
       "</div>"
      ],
      "text/plain": [
       "   eval_loss   eval_f1  epoch  batch_size  learning_rate model_name trained_on\n",
       "0   0.292151  0.864522    1.0          32       0.000054    bernice        all\n",
       "1   0.396538  0.858083    2.0          32       0.000054    bernice        all\n",
       "2   0.464542  0.881948    3.0          32       0.000054    bernice        all\n",
       "3   0.572202  0.872443    4.0          32       0.000054    bernice        all\n",
       "4   0.751824  0.869717    5.0          32       0.000054    bernice        all"
      ]
     },
     "execution_count": 65,
     "metadata": {},
     "output_type": "execute_result"
    }
   ],
   "source": [
    "all_df = []\n",
    "for trained in training_language:\n",
    "    trained_models = split_list(alist=trained, startswith=\"{'MODEL_CHECKPOINT':\")\n",
    "    trained_lang = trained[0].split()[-2]\n",
    "    print(trained_lang)\n",
    "    for model in trained_models:\n",
    "        model_runs = split_list(alist=model, startswith=\"Training\")\n",
    "        for run in model_runs:\n",
    "            results = [ast.literal_eval(i) for i in run if i.startswith('{')]\n",
    "            df = pd.DataFrame.from_dict([i for i in results if 'eval_loss' in i.keys()])\n",
    "            df = df[['eval_loss', 'eval_f1', 'epoch']]\n",
    "            df['batch_size'] = results[0]['batch_size']\n",
    "            df['learning_rate'] = results[0]['learning_rate']\n",
    "            df['model_name'] = run[0].split()[1]\n",
    "            df['trained_on'] = trained_lang\n",
    "            all_df.append(df)\n",
    "all_df = pd.concat(all_df, ignore_index=True)\n",
    "all_df.head()"
   ]
  },
  {
   "cell_type": "code",
   "execution_count": 66,
   "id": "9b0b3245-b7c9-4fda-a2a9-89b10b94cfed",
   "metadata": {},
   "outputs": [],
   "source": [
    "all_df.to_csv(LOG_PATH.joinpath(f'{LOG_NUM}.csv'), index=False)"
   ]
  },
  {
   "cell_type": "markdown",
   "id": "1dd9ccf6-15ac-43cc-b15f-6bf2a0bc7f5a",
   "metadata": {},
   "source": [
    "LOAD ALL GRIDSEARCH FILES AND COMBINE"
   ]
  },
  {
   "cell_type": "code",
   "execution_count": 85,
   "id": "2e42ba6e-5462-4d43-8b82-a1f507be2917",
   "metadata": {},
   "outputs": [
    {
     "name": "stdout",
     "output_type": "stream",
     "text": [
      "/gaueko0/users/nmishra/multiling_fludetection/logs/9350.csv\n",
      "/gaueko0/users/nmishra/multiling_fludetection/logs/9285.csv\n"
     ]
    },
    {
     "data": {
      "text/plain": [
       "[None, None]"
      ]
     },
     "execution_count": 85,
     "metadata": {},
     "output_type": "execute_result"
    }
   ],
   "source": [
    "[print(i) for i in LOG_PATH.glob('*.csv')]"
   ]
  },
  {
   "cell_type": "code",
   "execution_count": 86,
   "id": "05463589-410b-4f90-b5f8-bba0d4666048",
   "metadata": {},
   "outputs": [],
   "source": [
    "all_df = pd.concat([pd.read_csv(i) for i in LOG_PATH.glob('*.csv')])\n",
    "all_df.sort_values(['trained_on', 'model_name']).to_csv('all_gridsearch.csv', index=False)"
   ]
  },
  {
   "cell_type": "code",
   "execution_count": 87,
   "id": "b820e0ad-3127-4401-9a6c-f2d944d0c5bd",
   "metadata": {},
   "outputs": [
    {
     "name": "stdout",
     "output_type": "stream",
     "text": [
      "<class 'pandas.core.frame.DataFrame'>\n",
      "Index: 1276 entries, 0 to 791\n",
      "Data columns (total 7 columns):\n",
      " #   Column         Non-Null Count  Dtype  \n",
      "---  ------         --------------  -----  \n",
      " 0   eval_loss      1276 non-null   float64\n",
      " 1   eval_f1        1276 non-null   float64\n",
      " 2   epoch          1276 non-null   float64\n",
      " 3   batch_size     1276 non-null   int64  \n",
      " 4   learning_rate  1276 non-null   float64\n",
      " 5   model_name     1276 non-null   object \n",
      " 6   trained_on     1276 non-null   object \n",
      "dtypes: float64(4), int64(1), object(2)\n",
      "memory usage: 79.8+ KB\n"
     ]
    }
   ],
   "source": [
    "all_df.info()"
   ]
  },
  {
   "cell_type": "code",
   "execution_count": 88,
   "id": "17ce6489-0d0a-4a17-87cc-0baf5c1dd724",
   "metadata": {
    "scrolled": true
   },
   "outputs": [],
   "source": [
    "# for grp, trained_on in all_df.groupby('trained_on'):\n",
    "#     print('----')\n",
    "#     print(grp)\n",
    "#     for model_name, model in trained_on.groupby('model_name'):\n",
    "#         model.reset_index(inplace=True)\n",
    "        # print(model_name)\n",
    "        # print(model)\n",
    "        # print(model['eval_f1'].max())\n",
    "        # print(trained_on.groupby('model_name').agg({'eval_f1': 'max', 'eval_loss': 'min'}))\n"
   ]
  },
  {
   "cell_type": "code",
   "execution_count": null,
   "id": "e872c906-428e-4ace-8ec5-537bcc7aee06",
   "metadata": {},
   "outputs": [],
   "source": []
  }
 ],
 "metadata": {
  "kernelspec": {
   "display_name": "Python 3 (ipykernel)",
   "language": "python",
   "name": "python3"
  },
  "language_info": {
   "codemirror_mode": {
    "name": "ipython",
    "version": 3
   },
   "file_extension": ".py",
   "mimetype": "text/x-python",
   "name": "python",
   "nbconvert_exporter": "python",
   "pygments_lexer": "ipython3",
   "version": "3.9.16"
  }
 },
 "nbformat": 4,
 "nbformat_minor": 5
}
