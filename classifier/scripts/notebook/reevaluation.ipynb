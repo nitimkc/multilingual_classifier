{
 "cells": [
  {
   "cell_type": "code",
   "execution_count": 1,
   "id": "68661af3-9978-4b28-9a72-448919e9f954",
   "metadata": {},
   "outputs": [
    {
     "name": "stdout",
     "output_type": "stream",
     "text": [
      "Fri Apr 26 11:08:23 2024       \n",
      "+---------------------------------------------------------------------------------------+\n",
      "| NVIDIA-SMI 535.98                 Driver Version: 535.98       CUDA Version: 12.2     |\n",
      "|-----------------------------------------+----------------------+----------------------+\n",
      "| GPU  Name                 Persistence-M | Bus-Id        Disp.A | Volatile Uncorr. ECC |\n",
      "| Fan  Temp   Perf          Pwr:Usage/Cap |         Memory-Usage | GPU-Util  Compute M. |\n",
      "|                                         |                      |               MIG M. |\n",
      "|=========================================+======================+======================|\n",
      "|   0  NVIDIA A30                     Off | 00000000:3B:00.0 Off |                    0 |\n",
      "| N/A   22C    P0              24W / 165W |     18MiB / 24576MiB |      0%      Default |\n",
      "|                                         |                      |             Disabled |\n",
      "+-----------------------------------------+----------------------+----------------------+\n",
      "|   1  NVIDIA A30                     Off | 00000000:D8:00.0 Off |                    0 |\n",
      "| N/A   29C    P0              29W / 165W |  23138MiB / 24576MiB |      0%      Default |\n",
      "|                                         |                      |             Disabled |\n",
      "+-----------------------------------------+----------------------+----------------------+\n",
      "                                                                                         \n",
      "+---------------------------------------------------------------------------------------+\n",
      "| Processes:                                                                            |\n",
      "|  GPU   GI   CI        PID   Type   Process name                            GPU Memory |\n",
      "|        ID   ID                                                             Usage      |\n",
      "|=======================================================================================|\n",
      "|    0   N/A  N/A   2750731      G   /usr/libexec/Xorg                             4MiB |\n",
      "|    1   N/A  N/A   2428356      C   ...nvironments/discharge_me/bin/python    23104MiB |\n",
      "|    1   N/A  N/A   2750731      G   /usr/libexec/Xorg                             4MiB |\n",
      "+---------------------------------------------------------------------------------------+\n"
     ]
    }
   ],
   "source": [
    "!nvidia-smi"
   ]
  },
  {
   "cell_type": "code",
   "execution_count": 2,
   "id": "f92dc514-dd64-4505-a522-8ee206ce7233",
   "metadata": {},
   "outputs": [
    {
     "name": "stdout",
     "output_type": "stream",
     "text": [
      "0\n"
     ]
    }
   ],
   "source": [
    "### REDO classification report based on predictions saved\n",
    "\n",
    "import os\n",
    "\n",
    "os.environ[\"CUDA_VISIBLE_DEVICES\"]=\"0\"\n",
    "print(os.environ[\"CUDA_VISIBLE_DEVICES\"])"
   ]
  },
  {
   "cell_type": "code",
   "execution_count": 40,
   "id": "47fd73cb-9a2e-478f-842e-8528e086cfac",
   "metadata": {},
   "outputs": [],
   "source": [
    "from pathlib import Path\n",
    "import re\n",
    "\n",
    "import numpy as np\n",
    "import pandas as pd\n",
    "\n",
    "from sklearn.metrics import f1_score, accuracy_score\n",
    "from sklearn.metrics import multilabel_confusion_matrix, classification_report\n",
    "from sklearn.metrics import confusion_matrix, ConfusionMatrixDisplay"
   ]
  },
  {
   "cell_type": "code",
   "execution_count": 41,
   "id": "2a55a059-4ac1-427f-8acf-78e2ccf4edd8",
   "metadata": {},
   "outputs": [
    {
     "data": {
      "text/plain": [
       "PosixPath('/gaueko0/users/nmishra/multiling_fludetection/evals/eval_revisedcateg/testset0.6_0.2_0.2/one_to_many_lcpredictions_run5')"
      ]
     },
     "execution_count": 41,
     "metadata": {},
     "output_type": "execute_result"
    }
   ],
   "source": [
    "DATA_PATH = Path(\"/gaueko0/users/nmishra/multiling_fludetection/evals/eval_revisedcateg/testset0.6_0.2_0.2\")\n",
    "folder_name = 'one_to_many_lcpredictions_run5'\n",
    "DATA_PATH = DATA_PATH.joinpath(folder_name)\n",
    "DATA_PATH"
   ]
  },
  {
   "cell_type": "code",
   "execution_count": 44,
   "id": "a2899ac2-6ede-4ce1-90af-772a44837ca2",
   "metadata": {},
   "outputs": [
    {
     "data": {
      "text/plain": [
       "dict_keys([0, 1])"
      ]
     },
     "execution_count": 44,
     "metadata": {},
     "output_type": "execute_result"
    }
   ],
   "source": [
    "models = ['twitter-xlm-roberta-base','bernice', 'bert-base-multilingual', 'mdeberta', 'xlm-roberta-base']\n",
    "labels_map = {0:'1. Likely ILI infection', \n",
    "              # 1:'2. Likely COVID-19 Infection (after 2020 only)', \n",
    "              1:'3. Not Related to ILI or COVID-19 Infection',\n",
    "              # 3:'4. Ambiguous/Unsure'\n",
    "             }\n",
    "labels_map.keys()"
   ]
  },
  {
   "cell_type": "code",
   "execution_count": 45,
   "id": "fbfd003a-b744-4502-81ae-5a3061682c76",
   "metadata": {},
   "outputs": [
    {
     "name": "stdout",
     "output_type": "stream",
     "text": [
      "['it', 'de', 'fr', 'es', 'en']\n",
      "5\n",
      "/gaueko0/users/nmishra/multiling_fludetection/evals/eval_revisedcateg/testset0.6_0.2_0.2/one_to_many_lcpredictions_run5/twitter-xlm-roberta-base_it_predictions.csv\n",
      "twitter-xlm-roberta-base trained on it\n",
      "0.76\n",
      "0.74\n",
      "0.77\n",
      "/gaueko0/users/nmishra/multiling_fludetection/evals/eval_revisedcateg/testset0.6_0.2_0.2/one_to_many_lcpredictions_run5/twitter-xlm-roberta-base_it_predictions.csv\n",
      "twitter-xlm-roberta-base trained on de\n",
      "0.78\n",
      "0.78\n",
      "0.78\n",
      "/gaueko0/users/nmishra/multiling_fludetection/evals/eval_revisedcateg/testset0.6_0.2_0.2/one_to_many_lcpredictions_run5/twitter-xlm-roberta-base_it_predictions.csv\n",
      "twitter-xlm-roberta-base trained on fr\n",
      "0.79\n",
      "0.78\n",
      "0.79\n",
      "/gaueko0/users/nmishra/multiling_fludetection/evals/eval_revisedcateg/testset0.6_0.2_0.2/one_to_many_lcpredictions_run5/twitter-xlm-roberta-base_it_predictions.csv\n",
      "twitter-xlm-roberta-base trained on es\n",
      "0.78\n",
      "0.77\n",
      "0.78\n",
      "/gaueko0/users/nmishra/multiling_fludetection/evals/eval_revisedcateg/testset0.6_0.2_0.2/one_to_many_lcpredictions_run5/twitter-xlm-roberta-base_it_predictions.csv\n",
      "twitter-xlm-roberta-base trained on en\n",
      "0.78\n",
      "0.77\n",
      "0.78\n",
      "['fr', 'es', 'en', 'de', 'it']\n",
      "5\n",
      "/gaueko0/users/nmishra/multiling_fludetection/evals/eval_revisedcateg/testset0.6_0.2_0.2/one_to_many_lcpredictions_run5/bernice_es_predictions.csv\n",
      "bernice trained on fr\n",
      "0.82\n",
      "0.81\n",
      "0.82\n",
      "/gaueko0/users/nmishra/multiling_fludetection/evals/eval_revisedcateg/testset0.6_0.2_0.2/one_to_many_lcpredictions_run5/bernice_es_predictions.csv\n",
      "bernice trained on es\n",
      "0.78\n",
      "0.78\n",
      "0.78\n",
      "/gaueko0/users/nmishra/multiling_fludetection/evals/eval_revisedcateg/testset0.6_0.2_0.2/one_to_many_lcpredictions_run5/bernice_es_predictions.csv\n",
      "bernice trained on en\n",
      "0.79\n",
      "0.78\n",
      "0.79\n",
      "/gaueko0/users/nmishra/multiling_fludetection/evals/eval_revisedcateg/testset0.6_0.2_0.2/one_to_many_lcpredictions_run5/bernice_es_predictions.csv\n",
      "bernice trained on de\n",
      "0.8\n",
      "0.8\n",
      "0.8\n",
      "/gaueko0/users/nmishra/multiling_fludetection/evals/eval_revisedcateg/testset0.6_0.2_0.2/one_to_many_lcpredictions_run5/bernice_es_predictions.csv\n",
      "bernice trained on it\n",
      "0.77\n",
      "0.75\n",
      "0.77\n",
      "['fr', 'de', 'en', 'es', 'it']\n",
      "5\n",
      "/gaueko0/users/nmishra/multiling_fludetection/evals/eval_revisedcateg/testset0.6_0.2_0.2/one_to_many_lcpredictions_run5/bert-base-multilingual-uncased_en_predictions.csv\n",
      "bert-base-multilingual trained on fr\n",
      "0.78\n",
      "0.77\n",
      "0.78\n",
      "/gaueko0/users/nmishra/multiling_fludetection/evals/eval_revisedcateg/testset0.6_0.2_0.2/one_to_many_lcpredictions_run5/bert-base-multilingual-uncased_en_predictions.csv\n",
      "bert-base-multilingual trained on de\n",
      "0.69\n",
      "0.69\n",
      "0.69\n",
      "/gaueko0/users/nmishra/multiling_fludetection/evals/eval_revisedcateg/testset0.6_0.2_0.2/one_to_many_lcpredictions_run5/bert-base-multilingual-uncased_en_predictions.csv\n",
      "bert-base-multilingual trained on en\n",
      "0.62\n",
      "0.63\n",
      "0.63\n",
      "/gaueko0/users/nmishra/multiling_fludetection/evals/eval_revisedcateg/testset0.6_0.2_0.2/one_to_many_lcpredictions_run5/bert-base-multilingual-uncased_en_predictions.csv\n",
      "bert-base-multilingual trained on es\n",
      "0.72\n",
      "0.71\n",
      "0.73\n",
      "/gaueko0/users/nmishra/multiling_fludetection/evals/eval_revisedcateg/testset0.6_0.2_0.2/one_to_many_lcpredictions_run5/bert-base-multilingual-uncased_en_predictions.csv\n",
      "bert-base-multilingual trained on it\n",
      "0.67\n",
      "0.64\n",
      "0.71\n",
      "['it', 'es', 'en', 'de', 'fr']\n",
      "5\n",
      "/gaueko0/users/nmishra/multiling_fludetection/evals/eval_revisedcateg/testset0.6_0.2_0.2/one_to_many_lcpredictions_run5/mdeberta-v3-base_de_predictions.csv\n",
      "mdeberta trained on it\n",
      "0.73\n",
      "0.71\n",
      "0.75\n",
      "/gaueko0/users/nmishra/multiling_fludetection/evals/eval_revisedcateg/testset0.6_0.2_0.2/one_to_many_lcpredictions_run5/mdeberta-v3-base_de_predictions.csv\n",
      "mdeberta trained on es\n",
      "0.74\n",
      "0.73\n",
      "0.74\n",
      "/gaueko0/users/nmishra/multiling_fludetection/evals/eval_revisedcateg/testset0.6_0.2_0.2/one_to_many_lcpredictions_run5/mdeberta-v3-base_de_predictions.csv\n",
      "mdeberta trained on en\n",
      "0.77\n",
      "0.76\n",
      "0.76\n",
      "/gaueko0/users/nmishra/multiling_fludetection/evals/eval_revisedcateg/testset0.6_0.2_0.2/one_to_many_lcpredictions_run5/mdeberta-v3-base_de_predictions.csv\n",
      "mdeberta trained on de\n",
      "0.77\n",
      "0.76\n",
      "0.76\n",
      "/gaueko0/users/nmishra/multiling_fludetection/evals/eval_revisedcateg/testset0.6_0.2_0.2/one_to_many_lcpredictions_run5/mdeberta-v3-base_de_predictions.csv\n",
      "mdeberta trained on fr\n",
      "0.79\n",
      "0.77\n",
      "0.8\n",
      "['it', 'fr', 'en', 'de', 'es']\n",
      "5\n",
      "/gaueko0/users/nmishra/multiling_fludetection/evals/eval_revisedcateg/testset0.6_0.2_0.2/one_to_many_lcpredictions_run5/xlm-roberta-base_es_predictions.csv\n",
      "xlm-roberta-base trained on it\n",
      "0.76\n",
      "0.75\n",
      "0.76\n",
      "/gaueko0/users/nmishra/multiling_fludetection/evals/eval_revisedcateg/testset0.6_0.2_0.2/one_to_many_lcpredictions_run5/xlm-roberta-base_es_predictions.csv\n",
      "xlm-roberta-base trained on fr\n",
      "0.8\n",
      "0.79\n",
      "0.8\n",
      "/gaueko0/users/nmishra/multiling_fludetection/evals/eval_revisedcateg/testset0.6_0.2_0.2/one_to_many_lcpredictions_run5/xlm-roberta-base_es_predictions.csv\n",
      "xlm-roberta-base trained on en\n",
      "0.75\n",
      "0.75\n",
      "0.75\n",
      "/gaueko0/users/nmishra/multiling_fludetection/evals/eval_revisedcateg/testset0.6_0.2_0.2/one_to_many_lcpredictions_run5/xlm-roberta-base_es_predictions.csv\n",
      "xlm-roberta-base trained on de\n",
      "0.79\n",
      "0.79\n",
      "0.79\n",
      "/gaueko0/users/nmishra/multiling_fludetection/evals/eval_revisedcateg/testset0.6_0.2_0.2/one_to_many_lcpredictions_run5/xlm-roberta-base_es_predictions.csv\n",
      "xlm-roberta-base trained on es\n",
      "0.75\n",
      "0.75\n",
      "0.75\n"
     ]
    }
   ],
   "source": [
    "for n in range(len(models)):\n",
    "    file_names = [i for i in DATA_PATH.glob('*.csv') if i.stem.startswith(models[n])]\n",
    "    # print(file_names)\n",
    "    \n",
    "    languages = [re.findall('_(.+?)_', i.stem)[0] for i in file_names]\n",
    "    print(languages)\n",
    "    \n",
    "    dfs = [pd.read_csv(i) for i in file_names]\n",
    "    print(len(dfs))\n",
    "    \n",
    "    lang_idx = {i:j['index'].values for i,j in zip(languages, dfs)}\n",
    "    for lang, df in zip(languages, dfs):\n",
    "        print(file_names[n])\n",
    "        print(f\"{models[n]} trained on {lang}\")\n",
    "        lang_df = df[df['index']==lang_idx[lang]]\n",
    "        y = lang_df.iloc[:,2]\n",
    "        y_pred = lang_df.iloc[:,1]\n",
    "    \n",
    "        print(round(f1_score(y, y_pred, average='weighted'),2))\n",
    "        print(round(f1_score(y, y_pred, average='macro'),2))\n",
    "        print(round(accuracy_score(y, y_pred),2))"
   ]
  },
  {
   "cell_type": "code",
   "execution_count": 46,
   "id": "1b259fc8-1059-4070-adb9-ce58a29d176c",
   "metadata": {},
   "outputs": [
    {
     "name": "stdout",
     "output_type": "stream",
     "text": [
      "['xlm-roberta-base_it_predictions', 'xlm-roberta-base_fr_predictions', 'xlm-roberta-base_en_predictions', 'xlm-roberta-base_de_predictions', 'xlm-roberta-base_es_predictions']\n",
      "['it', 'fr', 'en', 'de', 'es']\n",
      "5\n"
     ]
    }
   ],
   "source": [
    "n = 4\n",
    "file_names = [i for i in DATA_PATH.glob('*.csv') if i.stem.startswith(models[n])]\n",
    "print([i.stem for i in file_names])\n",
    "\n",
    "languages = [re.findall('_(.+?)_', i.stem)[0] for i in file_names]\n",
    "print(languages)\n",
    "\n",
    "dfs = [pd.read_csv(i) for i in file_names]\n",
    "print(len(dfs))\n",
    "\n",
    "lang_idx = {i:j['index'].values for i,j in zip(languages, dfs)}"
   ]
  },
  {
   "cell_type": "code",
   "execution_count": 47,
   "id": "86c13f4c-a5ac-4470-912e-759b8ed725d4",
   "metadata": {},
   "outputs": [
    {
     "name": "stdout",
     "output_type": "stream",
     "text": [
      "xlm-roberta-base trained on de\n",
      "0.79\n",
      "0.79\n",
      "0.79\n"
     ]
    }
   ],
   "source": [
    "lang = 'de'\n",
    "df = dfs[languages.index(lang)]\n",
    "\n",
    "print(f\"{models[n]} trained on {lang}\")\n",
    "lang_df = df[df['index']==lang_idx[lang]]\n",
    "y = lang_df.iloc[:,2]\n",
    "y_pred = lang_df.iloc[:,1]\n",
    "\n",
    "print(round(f1_score(y, y_pred, average='weighted'),2))\n",
    "print(round(f1_score(y, y_pred, average='macro'),2))\n",
    "print(round(accuracy_score(y, y_pred),2))"
   ]
  },
  {
   "cell_type": "code",
   "execution_count": 48,
   "id": "91705fb7-e1b1-4bbb-9d95-d196ba680450",
   "metadata": {},
   "outputs": [
    {
     "data": {
      "text/html": [
       "<div>\n",
       "<style scoped>\n",
       "    .dataframe tbody tr th:only-of-type {\n",
       "        vertical-align: middle;\n",
       "    }\n",
       "\n",
       "    .dataframe tbody tr th {\n",
       "        vertical-align: top;\n",
       "    }\n",
       "\n",
       "    .dataframe thead th {\n",
       "        text-align: right;\n",
       "    }\n",
       "</style>\n",
       "<table border=\"1\" class=\"dataframe\">\n",
       "  <thead>\n",
       "    <tr style=\"text-align: right;\">\n",
       "      <th></th>\n",
       "      <th>precision</th>\n",
       "      <th>recall</th>\n",
       "      <th>f1-score</th>\n",
       "      <th>support</th>\n",
       "    </tr>\n",
       "  </thead>\n",
       "  <tbody>\n",
       "    <tr>\n",
       "      <th>1. Likely ILI infection</th>\n",
       "      <td>0.70</td>\n",
       "      <td>0.84</td>\n",
       "      <td>0.76</td>\n",
       "      <td>341.00</td>\n",
       "    </tr>\n",
       "    <tr>\n",
       "      <th>3. Not Related to ILI or COVID-19 Infection</th>\n",
       "      <td>0.88</td>\n",
       "      <td>0.76</td>\n",
       "      <td>0.82</td>\n",
       "      <td>519.00</td>\n",
       "    </tr>\n",
       "    <tr>\n",
       "      <th>accuracy</th>\n",
       "      <td>0.79</td>\n",
       "      <td>0.79</td>\n",
       "      <td>0.79</td>\n",
       "      <td>0.79</td>\n",
       "    </tr>\n",
       "    <tr>\n",
       "      <th>macro avg</th>\n",
       "      <td>0.79</td>\n",
       "      <td>0.80</td>\n",
       "      <td>0.79</td>\n",
       "      <td>860.00</td>\n",
       "    </tr>\n",
       "    <tr>\n",
       "      <th>weighted avg</th>\n",
       "      <td>0.81</td>\n",
       "      <td>0.79</td>\n",
       "      <td>0.79</td>\n",
       "      <td>860.00</td>\n",
       "    </tr>\n",
       "  </tbody>\n",
       "</table>\n",
       "</div>"
      ],
      "text/plain": [
       "                                             precision  recall  f1-score  \\\n",
       "1. Likely ILI infection                           0.70    0.84      0.76   \n",
       "3. Not Related to ILI or COVID-19 Infection       0.88    0.76      0.82   \n",
       "accuracy                                          0.79    0.79      0.79   \n",
       "macro avg                                         0.79    0.80      0.79   \n",
       "weighted avg                                      0.81    0.79      0.79   \n",
       "\n",
       "                                             support  \n",
       "1. Likely ILI infection                       341.00  \n",
       "3. Not Related to ILI or COVID-19 Infection   519.00  \n",
       "accuracy                                        0.79  \n",
       "macro avg                                     860.00  \n",
       "weighted avg                                  860.00  "
      ]
     },
     "execution_count": 48,
     "metadata": {},
     "output_type": "execute_result"
    }
   ],
   "source": [
    "cs = classification_report(y, y_pred, \n",
    "                           labels=list(labels_map.keys()), \n",
    "                           target_names=labels_map.values(), \n",
    "                           output_dict=True\n",
    "                          )\n",
    "cs = pd.DataFrame(cs).transpose().round(2)\n",
    "cs"
   ]
  },
  {
   "cell_type": "code",
   "execution_count": 49,
   "id": "3e1b8446-9d74-47b9-b723-8a24094e3d71",
   "metadata": {},
   "outputs": [
    {
     "data": {
      "text/plain": [
       "array([[285,  56],\n",
       "       [123, 396]])"
      ]
     },
     "execution_count": 49,
     "metadata": {},
     "output_type": "execute_result"
    }
   ],
   "source": [
    "cm"
   ]
  },
  {
   "cell_type": "code",
   "execution_count": 50,
   "id": "051ae389-0e8c-41aa-bc87-2cd1d638f127",
   "metadata": {},
   "outputs": [
    {
     "data": {
      "text/plain": [
       "{0: {0: 285, 1: 123}, 1: {0: 56, 1: 396}}"
      ]
     },
     "execution_count": 50,
     "metadata": {},
     "output_type": "execute_result"
    }
   ],
   "source": [
    "pd.DataFrame(cm).to_dict()"
   ]
  },
  {
   "cell_type": "code",
   "execution_count": 52,
   "id": "66c00036-0ebc-4b7d-ad11-fbfdb1af5db2",
   "metadata": {},
   "outputs": [
    {
     "data": {
      "text/html": [
       "<div>\n",
       "<style scoped>\n",
       "    .dataframe tbody tr th:only-of-type {\n",
       "        vertical-align: middle;\n",
       "    }\n",
       "\n",
       "    .dataframe tbody tr th {\n",
       "        vertical-align: top;\n",
       "    }\n",
       "\n",
       "    .dataframe thead th {\n",
       "        text-align: right;\n",
       "    }\n",
       "</style>\n",
       "<table border=\"1\" class=\"dataframe\">\n",
       "  <thead>\n",
       "    <tr style=\"text-align: right;\">\n",
       "      <th></th>\n",
       "      <th>1. Likely ILI infection</th>\n",
       "      <th>3. Not Related to ILI or COVID-19 Infection</th>\n",
       "    </tr>\n",
       "  </thead>\n",
       "  <tbody>\n",
       "    <tr>\n",
       "      <th>1. Likely ILI infection</th>\n",
       "      <td>0.84</td>\n",
       "      <td>0.16</td>\n",
       "    </tr>\n",
       "    <tr>\n",
       "      <th>3. Not Related to ILI or COVID-19 Infection</th>\n",
       "      <td>0.24</td>\n",
       "      <td>0.76</td>\n",
       "    </tr>\n",
       "  </tbody>\n",
       "</table>\n",
       "</div>"
      ],
      "text/plain": [
       "                                             1. Likely ILI infection  \\\n",
       "1. Likely ILI infection                                         0.84   \n",
       "3. Not Related to ILI or COVID-19 Infection                     0.24   \n",
       "\n",
       "                                             3. Not Related to ILI or COVID-19 Infection  \n",
       "1. Likely ILI infection                                                             0.16  \n",
       "3. Not Related to ILI or COVID-19 Infection                                         0.76  "
      ]
     },
     "execution_count": 52,
     "metadata": {},
     "output_type": "execute_result"
    }
   ],
   "source": [
    "# if lang =='en':\n",
    "#     lbls_map = {k:v for k,v in labels_map.items() if '2. Likely COVID-19' not in v}\n",
    "#     print(lbls_map)\n",
    "# else:\n",
    "#     lbls_map = labels_map\n",
    "\n",
    "lbls_map = {0:'1. Likely ILI infection',\n",
    "            2:'3. Not Related to ILI or COVID-19 Infection'}\n",
    "cm = confusion_matrix(y, y_pred, normalize='true').round(2)\n",
    "cmtx = pd.DataFrame(cm,\n",
    "                    index=list(lbls_map.values()),\n",
    "                    columns=list(lbls_map.values())\n",
    "                   )\n",
    "cmtx"
   ]
  },
  {
   "cell_type": "markdown",
   "id": "46f33fa2-901d-45c3-866f-af7db0ede6ea",
   "metadata": {},
   "source": [
    "Model trained on all tested on each"
   ]
  },
  {
   "cell_type": "code",
   "execution_count": 13,
   "id": "50465762-750c-4afc-91df-fffc5a2c84e8",
   "metadata": {
    "scrolled": true
   },
   "outputs": [],
   "source": [
    "file_names = [i for i in DATA_PATH.glob('*.csv') if 'all' in i.stem]\n",
    "for file in file_names:\n",
    "    print(f\"{file}\")\n",
    "    for lang, idx in lang_idx.items():\n",
    "        if lang != 'all':\n",
    "            print(f\"{lang}\")\n",
    "            df = pd.read_csv(file)\n",
    "            lang_df = df[df['index'].isin(lang_idx[lang])]\n",
    "            y = lang_df.iloc[:,2]\n",
    "            y_pred = lang_df.iloc[:,1]\n",
    "            if lang =='en':\n",
    "                print(round(f1_score(y, y_pred, labels=[0,2,3], average='weighted'),2))\n",
    "                print(round(f1_score(y, y_pred, labels=[0,2,3], average='macro'),2))\n",
    "            else: \n",
    "                print(round(f1_score(y, y_pred, average='weighted'),2))\n",
    "                print(round(f1_score(y, y_pred, average='macro'),2))\n",
    "            print(round(accuracy_score(y, y_pred),2))"
   ]
  },
  {
   "cell_type": "code",
   "execution_count": 14,
   "id": "8f8ee5a5-5252-4b4f-8a08-4023c0c3e77d",
   "metadata": {},
   "outputs": [
    {
     "ename": "IndexError",
     "evalue": "list index out of range",
     "output_type": "error",
     "traceback": [
      "\u001b[0;31m---------------------------------------------------------------------------\u001b[0m",
      "\u001b[0;31mIndexError\u001b[0m                                Traceback (most recent call last)",
      "Cell \u001b[0;32mIn[14], line 3\u001b[0m\n\u001b[1;32m      1\u001b[0m file_names \u001b[38;5;241m=\u001b[39m [i \u001b[38;5;28;01mfor\u001b[39;00m i \u001b[38;5;129;01min\u001b[39;00m DATA_PATH\u001b[38;5;241m.\u001b[39mglob(\u001b[38;5;124m'\u001b[39m\u001b[38;5;124m*.csv\u001b[39m\u001b[38;5;124m'\u001b[39m) \u001b[38;5;28;01mif\u001b[39;00m \u001b[38;5;124m'\u001b[39m\u001b[38;5;124mall\u001b[39m\u001b[38;5;124m'\u001b[39m \u001b[38;5;129;01min\u001b[39;00m i\u001b[38;5;241m.\u001b[39mstem]\n\u001b[1;32m      2\u001b[0m n \u001b[38;5;241m=\u001b[39m \u001b[38;5;241m4\u001b[39m\n\u001b[0;32m----> 3\u001b[0m \u001b[43mfile_names\u001b[49m\u001b[43m[\u001b[49m\u001b[43mn\u001b[49m\u001b[43m]\u001b[49m\n",
      "\u001b[0;31mIndexError\u001b[0m: list index out of range"
     ]
    }
   ],
   "source": [
    "file_names = [i for i in DATA_PATH.glob('*.csv') if 'all' in i.stem]\n",
    "n = 4\n",
    "file_names[n]"
   ]
  },
  {
   "cell_type": "code",
   "execution_count": 15,
   "id": "dcee20e5-e301-42f3-899b-09cdc39d0835",
   "metadata": {},
   "outputs": [
    {
     "ename": "IndexError",
     "evalue": "list index out of range",
     "output_type": "error",
     "traceback": [
      "\u001b[0;31m---------------------------------------------------------------------------\u001b[0m",
      "\u001b[0;31mIndexError\u001b[0m                                Traceback (most recent call last)",
      "Cell \u001b[0;32mIn[15], line 2\u001b[0m\n\u001b[1;32m      1\u001b[0m lang \u001b[38;5;241m=\u001b[39m \u001b[38;5;124m'\u001b[39m\u001b[38;5;124mit\u001b[39m\u001b[38;5;124m'\u001b[39m\n\u001b[0;32m----> 2\u001b[0m df \u001b[38;5;241m=\u001b[39m pd\u001b[38;5;241m.\u001b[39mread_csv(\u001b[43mfile_names\u001b[49m\u001b[43m[\u001b[49m\u001b[43mn\u001b[49m\u001b[43m]\u001b[49m)\n\u001b[1;32m      3\u001b[0m lang_df \u001b[38;5;241m=\u001b[39m df[df[\u001b[38;5;124m'\u001b[39m\u001b[38;5;124mindex\u001b[39m\u001b[38;5;124m'\u001b[39m]\u001b[38;5;241m.\u001b[39misin(lang_idx[lang])]\n\u001b[1;32m      4\u001b[0m y \u001b[38;5;241m=\u001b[39m lang_df\u001b[38;5;241m.\u001b[39miloc[:,\u001b[38;5;241m2\u001b[39m]\n",
      "\u001b[0;31mIndexError\u001b[0m: list index out of range"
     ]
    }
   ],
   "source": [
    "lang = 'it'\n",
    "df = pd.read_csv(file_names[n])\n",
    "lang_df = df[df['index'].isin(lang_idx[lang])]\n",
    "y = lang_df.iloc[:,2]\n",
    "y_pred = lang_df.iloc[:,1]\n",
    "print(lang)\n",
    "cs = classification_report(y, y_pred, \n",
    "                           labels=list(labels_map.keys()), \n",
    "                           target_names=labels_map.values(), \n",
    "                           output_dict=True\n",
    "                          )\n",
    "cs = pd.DataFrame(cs).transpose().round(2)\n",
    "cs"
   ]
  },
  {
   "cell_type": "code",
   "execution_count": 19,
   "id": "17625d5b-101d-4dd1-b233-8f0882fbc1dc",
   "metadata": {},
   "outputs": [
    {
     "data": {
      "text/html": [
       "<div>\n",
       "<style scoped>\n",
       "    .dataframe tbody tr th:only-of-type {\n",
       "        vertical-align: middle;\n",
       "    }\n",
       "\n",
       "    .dataframe tbody tr th {\n",
       "        vertical-align: top;\n",
       "    }\n",
       "\n",
       "    .dataframe thead th {\n",
       "        text-align: right;\n",
       "    }\n",
       "</style>\n",
       "<table border=\"1\" class=\"dataframe\">\n",
       "  <thead>\n",
       "    <tr style=\"text-align: right;\">\n",
       "      <th></th>\n",
       "      <th>1. Likely ILI infection</th>\n",
       "      <th>2. Likely COVID-19 Infection (after 2020 only)</th>\n",
       "      <th>3. Not Related to ILI or COVID-19 Infection</th>\n",
       "      <th>4. Ambiguous/Unsure</th>\n",
       "    </tr>\n",
       "  </thead>\n",
       "  <tbody>\n",
       "    <tr>\n",
       "      <th>1. Likely ILI infection</th>\n",
       "      <td>0.75</td>\n",
       "      <td>0.01</td>\n",
       "      <td>0.18</td>\n",
       "      <td>0.06</td>\n",
       "    </tr>\n",
       "    <tr>\n",
       "      <th>2. Likely COVID-19 Infection (after 2020 only)</th>\n",
       "      <td>0.20</td>\n",
       "      <td>0.20</td>\n",
       "      <td>0.60</td>\n",
       "      <td>0.00</td>\n",
       "    </tr>\n",
       "    <tr>\n",
       "      <th>3. Not Related to ILI or COVID-19 Infection</th>\n",
       "      <td>0.17</td>\n",
       "      <td>0.00</td>\n",
       "      <td>0.76</td>\n",
       "      <td>0.06</td>\n",
       "    </tr>\n",
       "    <tr>\n",
       "      <th>4. Ambiguous/Unsure</th>\n",
       "      <td>0.46</td>\n",
       "      <td>0.08</td>\n",
       "      <td>0.15</td>\n",
       "      <td>0.31</td>\n",
       "    </tr>\n",
       "  </tbody>\n",
       "</table>\n",
       "</div>"
      ],
      "text/plain": [
       "                                                1. Likely ILI infection  \\\n",
       "1. Likely ILI infection                                            0.75   \n",
       "2. Likely COVID-19 Infection (after 2020 only)                     0.20   \n",
       "3. Not Related to ILI or COVID-19 Infection                        0.17   \n",
       "4. Ambiguous/Unsure                                                0.46   \n",
       "\n",
       "                                                2. Likely COVID-19 Infection (after 2020 only)  \\\n",
       "1. Likely ILI infection                                                                   0.01   \n",
       "2. Likely COVID-19 Infection (after 2020 only)                                            0.20   \n",
       "3. Not Related to ILI or COVID-19 Infection                                               0.00   \n",
       "4. Ambiguous/Unsure                                                                       0.08   \n",
       "\n",
       "                                                3. Not Related to ILI or COVID-19 Infection  \\\n",
       "1. Likely ILI infection                                                                0.18   \n",
       "2. Likely COVID-19 Infection (after 2020 only)                                         0.60   \n",
       "3. Not Related to ILI or COVID-19 Infection                                            0.76   \n",
       "4. Ambiguous/Unsure                                                                    0.15   \n",
       "\n",
       "                                                4. Ambiguous/Unsure  \n",
       "1. Likely ILI infection                                        0.06  \n",
       "2. Likely COVID-19 Infection (after 2020 only)                 0.00  \n",
       "3. Not Related to ILI or COVID-19 Infection                    0.06  \n",
       "4. Ambiguous/Unsure                                            0.31  "
      ]
     },
     "execution_count": 19,
     "metadata": {},
     "output_type": "execute_result"
    }
   ],
   "source": [
    "if lang =='en':\n",
    "    lbls_map = {k:v for k,v in labels_map.items() if '2. Likely COVID-19' not in v}\n",
    "    print(lbls_map)\n",
    "else:\n",
    "    lbls_map = labels_map\n",
    "cm = confusion_matrix(y, y_pred, normalize='true').round(2)\n",
    "cmtx = pd.DataFrame(cm,\n",
    "                    index=list(labels_map.values()),\n",
    "                    columns=list(labels_map.values())\n",
    "                   )\n",
    "cmtx"
   ]
  },
  {
   "cell_type": "code",
   "execution_count": null,
   "id": "9d4b4103-e01a-4c5b-852f-ed6703304861",
   "metadata": {},
   "outputs": [],
   "source": []
  },
  {
   "cell_type": "code",
   "execution_count": null,
   "id": "bf173705-096b-4bc2-a529-1e626534ef2e",
   "metadata": {},
   "outputs": [],
   "source": []
  }
 ],
 "metadata": {
  "kernelspec": {
   "display_name": "ipykernel ILI Test",
   "language": "python",
   "name": "ipykernel-ili-test"
  },
  "language_info": {
   "codemirror_mode": {
    "name": "ipython",
    "version": 3
   },
   "file_extension": ".py",
   "mimetype": "text/x-python",
   "name": "python",
   "nbconvert_exporter": "python",
   "pygments_lexer": "ipython3",
   "version": "3.9.7"
  }
 },
 "nbformat": 4,
 "nbformat_minor": 5
}
