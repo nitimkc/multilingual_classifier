{
 "cells": [
  {
   "cell_type": "code",
   "execution_count": 1,
   "id": "fbf07f86-7c8a-4aa7-b819-07fc68032c48",
   "metadata": {},
   "outputs": [
    {
     "name": "stdout",
     "output_type": "stream",
     "text": [
      "0\n"
     ]
    }
   ],
   "source": [
    "import os\n",
    "# os.environ[\"WANDB_SILENT\"] = \"true\"\n",
    "\n",
    "os.environ[\"CUDA_DEVICE_ORDER\"]=\"PCI_BUS_ID\"\n",
    "os.environ[\"CUDA_VISIBLE_DEVICES\"]=\"0\"\n",
    "print(os.environ[\"CUDA_VISIBLE_DEVICES\"])"
   ]
  },
  {
   "cell_type": "code",
   "execution_count": 2,
   "id": "46f538e9-bf8d-4f6c-ba64-cd1ba86ef0a8",
   "metadata": {},
   "outputs": [],
   "source": [
    "import json\n",
    "from pathlib import Path\n",
    "import pandas as pd\n",
    "import numpy as np"
   ]
  },
  {
   "cell_type": "code",
   "execution_count": 3,
   "id": "33c0a3b4-ca66-4eaa-a6a6-4bc1df50de5e",
   "metadata": {},
   "outputs": [],
   "source": [
    "ROOT = Path('/gaueko0/users/nmishra/multiling_fludetection/data')\n",
    "translated_dir = ROOT.joinpath('translated/all')\n",
    "out_dir = translated_dir.parent.joinpath('originalcateg')"
   ]
  },
  {
   "cell_type": "code",
   "execution_count": 4,
   "id": "d09355e3-fa81-4cc2-b593-66c09428f4e1",
   "metadata": {},
   "outputs": [
    {
     "name": "stdout",
     "output_type": "stream",
     "text": [
      "('de', 'en', 'es', 'fr', 'it')\n"
     ]
    },
    {
     "data": {
      "text/plain": [
       "[PosixPath('/gaueko0/users/nmishra/multiling_fludetection/data/translated/all/en_translatedto_es.jsonl'),\n",
       " PosixPath('/gaueko0/users/nmishra/multiling_fludetection/data/translated/all/fr_translatedto_en.jsonl'),\n",
       " PosixPath('/gaueko0/users/nmishra/multiling_fludetection/data/translated/all/en_translatedto_it.jsonl'),\n",
       " PosixPath('/gaueko0/users/nmishra/multiling_fludetection/data/translated/all/fr_translatedto_it.jsonl'),\n",
       " PosixPath('/gaueko0/users/nmishra/multiling_fludetection/data/translated/all/de_translatedto_en.jsonl'),\n",
       " PosixPath('/gaueko0/users/nmishra/multiling_fludetection/data/translated/all/es_translatedto_fr.jsonl'),\n",
       " PosixPath('/gaueko0/users/nmishra/multiling_fludetection/data/translated/all/de_translatedto_it.jsonl'),\n",
       " PosixPath('/gaueko0/users/nmishra/multiling_fludetection/data/translated/all/en_translatedto_fr.jsonl'),\n",
       " PosixPath('/gaueko0/users/nmishra/multiling_fludetection/data/translated/all/es_translatedto_en.jsonl'),\n",
       " PosixPath('/gaueko0/users/nmishra/multiling_fludetection/data/translated/all/fr_translatedto_es.jsonl'),\n",
       " PosixPath('/gaueko0/users/nmishra/multiling_fludetection/data/translated/all/de_translatedto_fr.jsonl'),\n",
       " PosixPath('/gaueko0/users/nmishra/multiling_fludetection/data/translated/all/de_translatedto_es.jsonl'),\n",
       " PosixPath('/gaueko0/users/nmishra/multiling_fludetection/data/translated/all/it_translatedto_fr.jsonl'),\n",
       " PosixPath('/gaueko0/users/nmishra/multiling_fludetection/data/translated/all/es_translatedto_it.jsonl'),\n",
       " PosixPath('/gaueko0/users/nmishra/multiling_fludetection/data/translated/all/it_translatedto_es.jsonl'),\n",
       " PosixPath('/gaueko0/users/nmishra/multiling_fludetection/data/translated/all/es_translatedto_de.jsonl'),\n",
       " PosixPath('/gaueko0/users/nmishra/multiling_fludetection/data/translated/all/en_translatedto_de.jsonl'),\n",
       " PosixPath('/gaueko0/users/nmishra/multiling_fludetection/data/translated/all/fr_translatedto_de.jsonl'),\n",
       " PosixPath('/gaueko0/users/nmishra/multiling_fludetection/data/translated/all/it_translatedto_de.jsonl'),\n",
       " PosixPath('/gaueko0/users/nmishra/multiling_fludetection/data/translated/all/it_translatedto_en.jsonl')]"
      ]
     },
     "execution_count": 4,
     "metadata": {},
     "output_type": "execute_result"
    }
   ],
   "source": [
    "all_data = pd.read_csv(ROOT.joinpath('all').joinpath('alldata.csv'))\n",
    "languages = tuple(all_data['lang'].unique())\n",
    "print(languages)\n",
    "translated_files = [i for i in translated_dir.glob('*.jsonl') if 'translatedto' in i.stem]\n",
    "translated_files"
   ]
  },
  {
   "cell_type": "code",
   "execution_count": 5,
   "id": "657cb4a6-44a4-4a97-91c0-c6ddad9b1d88",
   "metadata": {
    "scrolled": true
   },
   "outputs": [
    {
     "name": "stdout",
     "output_type": "stream",
     "text": [
      "de\n",
      "(1000, 7)\n",
      "/gaueko0/users/nmishra/multiling_fludetection/data/translated/all/de_translatedto_en.jsonl\n",
      "(1000, 3)\n",
      "(1000, 7)\n",
      "/gaueko0/users/nmishra/multiling_fludetection/data/translated/all/de_translatedto_it.jsonl\n",
      "(1000, 3)\n",
      "(1000, 7)\n",
      "/gaueko0/users/nmishra/multiling_fludetection/data/translated/all/de_translatedto_fr.jsonl\n",
      "(1000, 3)\n",
      "(1000, 7)\n",
      "/gaueko0/users/nmishra/multiling_fludetection/data/translated/all/de_translatedto_es.jsonl\n",
      "(1000, 3)\n",
      "(1000, 7)\n",
      "(5000, 7)\n",
      "/gaueko0/users/nmishra/multiling_fludetection/data/translated/originalcateg/one_to_many/de_tweets_translated.csv\n",
      "en\n",
      "(200, 7)\n",
      "/gaueko0/users/nmishra/multiling_fludetection/data/translated/all/en_translatedto_es.jsonl\n",
      "(200, 3)\n",
      "(200, 7)\n",
      "/gaueko0/users/nmishra/multiling_fludetection/data/translated/all/en_translatedto_it.jsonl\n",
      "(200, 3)\n",
      "(200, 7)\n",
      "/gaueko0/users/nmishra/multiling_fludetection/data/translated/all/en_translatedto_fr.jsonl\n",
      "(200, 3)\n",
      "(200, 7)\n",
      "/gaueko0/users/nmishra/multiling_fludetection/data/translated/all/en_translatedto_de.jsonl\n",
      "(200, 3)\n",
      "(200, 7)\n",
      "(1000, 7)\n",
      "/gaueko0/users/nmishra/multiling_fludetection/data/translated/originalcateg/one_to_many/en_tweets_translated.csv\n",
      "es\n",
      "(1200, 7)\n",
      "/gaueko0/users/nmishra/multiling_fludetection/data/translated/all/es_translatedto_fr.jsonl\n",
      "(1200, 3)\n",
      "(1200, 7)\n",
      "/gaueko0/users/nmishra/multiling_fludetection/data/translated/all/es_translatedto_en.jsonl\n",
      "(1200, 3)\n",
      "(1200, 7)\n",
      "/gaueko0/users/nmishra/multiling_fludetection/data/translated/all/es_translatedto_it.jsonl\n",
      "(1200, 3)\n"
     ]
    },
    {
     "name": "stderr",
     "output_type": "stream",
     "text": [
      "/tmp/ipykernel_15287/1920924123.py:7: SettingWithCopyWarning: \n",
      "A value is trying to be set on a copy of a slice from a DataFrame.\n",
      "Try using .loc[row_indexer,col_indexer] = value instead\n",
      "\n",
      "See the caveats in the documentation: https://pandas.pydata.org/pandas-docs/stable/user_guide/indexing.html#returning-a-view-versus-a-copy\n",
      "  original_lang_df['target_lang'] = lang              # add translated lang as the same\n",
      "/tmp/ipykernel_15287/1920924123.py:7: SettingWithCopyWarning: \n",
      "A value is trying to be set on a copy of a slice from a DataFrame.\n",
      "Try using .loc[row_indexer,col_indexer] = value instead\n",
      "\n",
      "See the caveats in the documentation: https://pandas.pydata.org/pandas-docs/stable/user_guide/indexing.html#returning-a-view-versus-a-copy\n",
      "  original_lang_df['target_lang'] = lang              # add translated lang as the same\n",
      "/tmp/ipykernel_15287/1920924123.py:7: SettingWithCopyWarning: \n",
      "A value is trying to be set on a copy of a slice from a DataFrame.\n",
      "Try using .loc[row_indexer,col_indexer] = value instead\n",
      "\n",
      "See the caveats in the documentation: https://pandas.pydata.org/pandas-docs/stable/user_guide/indexing.html#returning-a-view-versus-a-copy\n",
      "  original_lang_df['target_lang'] = lang              # add translated lang as the same\n"
     ]
    },
    {
     "name": "stdout",
     "output_type": "stream",
     "text": [
      "(1200, 7)\n",
      "/gaueko0/users/nmishra/multiling_fludetection/data/translated/all/es_translatedto_de.jsonl\n",
      "(1200, 3)\n",
      "(1200, 7)\n",
      "(6000, 7)\n",
      "/gaueko0/users/nmishra/multiling_fludetection/data/translated/originalcateg/one_to_many/es_tweets_translated.csv\n",
      "fr\n",
      "(1000, 7)\n",
      "/gaueko0/users/nmishra/multiling_fludetection/data/translated/all/fr_translatedto_en.jsonl\n",
      "(1000, 3)\n",
      "(1000, 7)\n",
      "/gaueko0/users/nmishra/multiling_fludetection/data/translated/all/fr_translatedto_it.jsonl\n",
      "(1000, 3)\n",
      "(1000, 7)\n",
      "/gaueko0/users/nmishra/multiling_fludetection/data/translated/all/fr_translatedto_es.jsonl\n",
      "(1000, 3)\n",
      "(1000, 7)\n",
      "/gaueko0/users/nmishra/multiling_fludetection/data/translated/all/fr_translatedto_de.jsonl\n",
      "(1000, 3)\n",
      "(1000, 7)\n",
      "(5000, 7)\n",
      "/gaueko0/users/nmishra/multiling_fludetection/data/translated/originalcateg/one_to_many/fr_tweets_translated.csv\n",
      "it\n"
     ]
    },
    {
     "name": "stderr",
     "output_type": "stream",
     "text": [
      "/tmp/ipykernel_15287/1920924123.py:7: SettingWithCopyWarning: \n",
      "A value is trying to be set on a copy of a slice from a DataFrame.\n",
      "Try using .loc[row_indexer,col_indexer] = value instead\n",
      "\n",
      "See the caveats in the documentation: https://pandas.pydata.org/pandas-docs/stable/user_guide/indexing.html#returning-a-view-versus-a-copy\n",
      "  original_lang_df['target_lang'] = lang              # add translated lang as the same\n",
      "/tmp/ipykernel_15287/1920924123.py:7: SettingWithCopyWarning: \n",
      "A value is trying to be set on a copy of a slice from a DataFrame.\n",
      "Try using .loc[row_indexer,col_indexer] = value instead\n",
      "\n",
      "See the caveats in the documentation: https://pandas.pydata.org/pandas-docs/stable/user_guide/indexing.html#returning-a-view-versus-a-copy\n",
      "  original_lang_df['target_lang'] = lang              # add translated lang as the same\n"
     ]
    },
    {
     "name": "stdout",
     "output_type": "stream",
     "text": [
      "(1000, 7)\n",
      "/gaueko0/users/nmishra/multiling_fludetection/data/translated/all/it_translatedto_fr.jsonl\n",
      "(1000, 3)\n",
      "(1000, 7)\n",
      "/gaueko0/users/nmishra/multiling_fludetection/data/translated/all/it_translatedto_es.jsonl\n",
      "(1000, 3)\n",
      "(1000, 7)\n",
      "/gaueko0/users/nmishra/multiling_fludetection/data/translated/all/it_translatedto_de.jsonl\n",
      "(1000, 3)\n",
      "(1000, 7)\n",
      "/gaueko0/users/nmishra/multiling_fludetection/data/translated/all/it_translatedto_en.jsonl\n",
      "(1000, 3)\n",
      "(1000, 7)\n",
      "(5000, 7)\n",
      "/gaueko0/users/nmishra/multiling_fludetection/data/translated/originalcateg/one_to_many/it_tweets_translated.csv\n"
     ]
    }
   ],
   "source": [
    "dirname = 'one_to_many'\n",
    "OUT_PATH = out_dir.joinpath(dirname)\n",
    "\n",
    "for lang in languages:\n",
    "    print(lang)\n",
    "    original_lang_df = all_data[all_data['lang']==lang] # get original df of the lang\n",
    "    original_lang_df['target_lang'] = lang              # add translated lang as the same\n",
    "    print(original_lang_df.shape)\n",
    "\n",
    "    target_lang_df = []\n",
    "    target_lang_files = [file for file in translated_files if file.stem.startswith(lang)] # get translation files for that lang    \n",
    "    for file in target_lang_files:\n",
    "        print(file)\n",
    "        translated_df = pd.read_json(file, lines=True, encoding='utf-8', dtype={'id': 'int64'}) # read each translations\n",
    "        translated_df['target_lang'] = file.stem[-2:]                                           # add translated lang   \n",
    "        print(translated_df.shape)\n",
    "\n",
    "        # merge other info of each id from the original df for that lang\n",
    "        translated_df = translated_df.merge(original_lang_df[['id', 'lang', 'year', 'final_annotation', 'overlap']].copy(), on='id') \n",
    "        translated_df.rename(columns={'translated_tweet':'tweet'}, inplace=True) \n",
    "        print(translated_df.shape)\n",
    "        target_lang_df.append(translated_df)                                           # add to list of translated dfs for the lang\n",
    "        \n",
    "    target_lang_df = pd.concat(target_lang_df + [original_lang_df])                                 # one df constituting original lang and its translations\n",
    "    print(target_lang_df.shape)\n",
    "    print(OUT_PATH.joinpath(f'{lang}_tweets_translated.csv'))\n",
    "    target_lang_df.to_csv(OUT_PATH.joinpath(f'{lang}_tweets_translated.csv'), index=False)"
   ]
  },
  {
   "cell_type": "code",
   "execution_count": 6,
   "id": "6d8e138a-9390-499a-ba4e-99ee87b93073",
   "metadata": {},
   "outputs": [
    {
     "name": "stdout",
     "output_type": "stream",
     "text": [
      "de\n",
      "(1000, 7)\n",
      "/gaueko0/users/nmishra/multiling_fludetection/data/translated/all/es_translatedto_de.jsonl\n",
      "(1200, 3)\n",
      "(1200, 7)\n",
      "/gaueko0/users/nmishra/multiling_fludetection/data/translated/all/en_translatedto_de.jsonl\n",
      "(200, 3)\n",
      "(200, 7)\n",
      "/gaueko0/users/nmishra/multiling_fludetection/data/translated/all/fr_translatedto_de.jsonl\n",
      "(1000, 3)\n",
      "(1000, 7)\n",
      "/gaueko0/users/nmishra/multiling_fludetection/data/translated/all/it_translatedto_de.jsonl\n",
      "(1000, 3)\n",
      "(1000, 7)\n",
      "(4400, 7)\n",
      "/gaueko0/users/nmishra/multiling_fludetection/data/translated/originalcateg/many_to_one/tweets_translated_de.csv\n",
      "en\n",
      "(200, 7)\n",
      "/gaueko0/users/nmishra/multiling_fludetection/data/translated/all/fr_translatedto_en.jsonl\n",
      "(1000, 3)\n",
      "(1000, 7)\n",
      "/gaueko0/users/nmishra/multiling_fludetection/data/translated/all/de_translatedto_en.jsonl\n",
      "(1000, 3)\n",
      "(1000, 7)\n",
      "/gaueko0/users/nmishra/multiling_fludetection/data/translated/all/es_translatedto_en.jsonl\n",
      "(1200, 3)\n",
      "(1200, 7)\n",
      "/gaueko0/users/nmishra/multiling_fludetection/data/translated/all/it_translatedto_en.jsonl\n",
      "(1000, 3)\n",
      "(1000, 7)\n",
      "(4400, 7)\n",
      "/gaueko0/users/nmishra/multiling_fludetection/data/translated/originalcateg/many_to_one/tweets_translated_en.csv\n",
      "es\n",
      "(1200, 7)\n",
      "/gaueko0/users/nmishra/multiling_fludetection/data/translated/all/en_translatedto_es.jsonl\n",
      "(200, 3)\n",
      "(200, 7)\n",
      "/gaueko0/users/nmishra/multiling_fludetection/data/translated/all/fr_translatedto_es.jsonl\n",
      "(1000, 3)\n",
      "(1000, 7)\n",
      "/gaueko0/users/nmishra/multiling_fludetection/data/translated/all/de_translatedto_es.jsonl\n",
      "(1000, 3)\n",
      "(1000, 7)\n",
      "/gaueko0/users/nmishra/multiling_fludetection/data/translated/all/it_translatedto_es.jsonl\n",
      "(1000, 3)\n",
      "(1000, 7)\n",
      "(4400, 7)\n",
      "/gaueko0/users/nmishra/multiling_fludetection/data/translated/originalcateg/many_to_one/tweets_translated_es.csv\n"
     ]
    },
    {
     "name": "stderr",
     "output_type": "stream",
     "text": [
      "/tmp/ipykernel_15287/1177566399.py:7: SettingWithCopyWarning: \n",
      "A value is trying to be set on a copy of a slice from a DataFrame.\n",
      "Try using .loc[row_indexer,col_indexer] = value instead\n",
      "\n",
      "See the caveats in the documentation: https://pandas.pydata.org/pandas-docs/stable/user_guide/indexing.html#returning-a-view-versus-a-copy\n",
      "  lang_df['target_lang'] = lang\n",
      "/tmp/ipykernel_15287/1177566399.py:7: SettingWithCopyWarning: \n",
      "A value is trying to be set on a copy of a slice from a DataFrame.\n",
      "Try using .loc[row_indexer,col_indexer] = value instead\n",
      "\n",
      "See the caveats in the documentation: https://pandas.pydata.org/pandas-docs/stable/user_guide/indexing.html#returning-a-view-versus-a-copy\n",
      "  lang_df['target_lang'] = lang\n",
      "/tmp/ipykernel_15287/1177566399.py:7: SettingWithCopyWarning: \n",
      "A value is trying to be set on a copy of a slice from a DataFrame.\n",
      "Try using .loc[row_indexer,col_indexer] = value instead\n",
      "\n",
      "See the caveats in the documentation: https://pandas.pydata.org/pandas-docs/stable/user_guide/indexing.html#returning-a-view-versus-a-copy\n",
      "  lang_df['target_lang'] = lang\n"
     ]
    },
    {
     "name": "stdout",
     "output_type": "stream",
     "text": [
      "fr\n",
      "(1000, 7)\n",
      "/gaueko0/users/nmishra/multiling_fludetection/data/translated/all/es_translatedto_fr.jsonl\n",
      "(1200, 3)\n",
      "(1200, 7)\n",
      "/gaueko0/users/nmishra/multiling_fludetection/data/translated/all/en_translatedto_fr.jsonl\n",
      "(200, 3)\n",
      "(200, 7)\n",
      "/gaueko0/users/nmishra/multiling_fludetection/data/translated/all/de_translatedto_fr.jsonl\n",
      "(1000, 3)\n",
      "(1000, 7)\n",
      "/gaueko0/users/nmishra/multiling_fludetection/data/translated/all/it_translatedto_fr.jsonl\n",
      "(1000, 3)\n",
      "(1000, 7)\n",
      "(4400, 7)\n",
      "/gaueko0/users/nmishra/multiling_fludetection/data/translated/originalcateg/many_to_one/tweets_translated_fr.csv\n",
      "it\n",
      "(1000, 7)\n",
      "/gaueko0/users/nmishra/multiling_fludetection/data/translated/all/en_translatedto_it.jsonl\n",
      "(200, 3)\n",
      "(200, 7)\n",
      "/gaueko0/users/nmishra/multiling_fludetection/data/translated/all/fr_translatedto_it.jsonl\n",
      "(1000, 3)\n",
      "(1000, 7)\n",
      "/gaueko0/users/nmishra/multiling_fludetection/data/translated/all/de_translatedto_it.jsonl\n",
      "(1000, 3)\n",
      "(1000, 7)\n",
      "/gaueko0/users/nmishra/multiling_fludetection/data/translated/all/es_translatedto_it.jsonl\n",
      "(1200, 3)\n",
      "(1200, 7)\n",
      "(4400, 7)\n",
      "/gaueko0/users/nmishra/multiling_fludetection/data/translated/originalcateg/many_to_one/tweets_translated_it.csv\n"
     ]
    },
    {
     "name": "stderr",
     "output_type": "stream",
     "text": [
      "/tmp/ipykernel_15287/1177566399.py:7: SettingWithCopyWarning: \n",
      "A value is trying to be set on a copy of a slice from a DataFrame.\n",
      "Try using .loc[row_indexer,col_indexer] = value instead\n",
      "\n",
      "See the caveats in the documentation: https://pandas.pydata.org/pandas-docs/stable/user_guide/indexing.html#returning-a-view-versus-a-copy\n",
      "  lang_df['target_lang'] = lang\n",
      "/tmp/ipykernel_15287/1177566399.py:7: SettingWithCopyWarning: \n",
      "A value is trying to be set on a copy of a slice from a DataFrame.\n",
      "Try using .loc[row_indexer,col_indexer] = value instead\n",
      "\n",
      "See the caveats in the documentation: https://pandas.pydata.org/pandas-docs/stable/user_guide/indexing.html#returning-a-view-versus-a-copy\n",
      "  lang_df['target_lang'] = lang\n"
     ]
    }
   ],
   "source": [
    "dirname = 'many_to_one'\n",
    "OUT_PATH = out_dir.joinpath(dirname)\n",
    "\n",
    "for lang in languages:\n",
    "    print(lang)\n",
    "    lang_df = all_data[all_data['lang']==lang]                                         # get original df of the lang\n",
    "    lang_df['target_lang'] = lang\n",
    "    print(lang_df.shape)\n",
    "\n",
    "    target_lang_df = []\n",
    "    target_lang_files = [file for file in translated_files if file.stem.endswith(lang)] # get files translated to that lang\n",
    "    for file in target_lang_files:\n",
    "        print(file)\n",
    "        original_lang = file.stem[:2]\n",
    "        original_df = all_data[all_data['lang']==original_lang]                                 # original df of the translated content\n",
    "    \n",
    "        translated_df = pd.read_json(file, lines=True, encoding='utf-8', dtype={'id': 'int64'}) # read each translations\n",
    "        translated_df['target_lang'] = lang                                                     # language translated to\n",
    "        print(translated_df.shape)\n",
    "\n",
    "        # merge other info from original df\n",
    "        translated_df = translated_df.merge(original_df[['id', 'lang', 'year', 'final_annotation', 'overlap']].copy(), on='id')\n",
    "        translated_df.rename(columns={'translated_tweet':'tweet'}, inplace=True) \n",
    "        print(translated_df.shape)\n",
    "        target_lang_df.append(translated_df)                                                     # add to list of translated dfs for the lang\n",
    "        \n",
    "    target_lang_df = pd.concat(target_lang_df + [lang_df])                                       # made one df of original and translations\n",
    "    print(target_lang_df.shape)\n",
    "    print(OUT_PATH.joinpath(f'tweets_translated_{lang}.csv'))\n",
    "    target_lang_df.to_csv(OUT_PATH.joinpath(f'tweets_translated_{lang}.csv'), index=False)"
   ]
  },
  {
   "cell_type": "code",
   "execution_count": null,
   "id": "add43bb8-1bd5-4d5f-b646-d48b3839d9d1",
   "metadata": {},
   "outputs": [],
   "source": []
  }
 ],
 "metadata": {
  "kernelspec": {
   "display_name": "Python 3 (ipykernel)",
   "language": "python",
   "name": "python3"
  },
  "language_info": {
   "codemirror_mode": {
    "name": "ipython",
    "version": 3
   },
   "file_extension": ".py",
   "mimetype": "text/x-python",
   "name": "python",
   "nbconvert_exporter": "python",
   "pygments_lexer": "ipython3",
   "version": "3.9.16"
  }
 },
 "nbformat": 4,
 "nbformat_minor": 5
}
