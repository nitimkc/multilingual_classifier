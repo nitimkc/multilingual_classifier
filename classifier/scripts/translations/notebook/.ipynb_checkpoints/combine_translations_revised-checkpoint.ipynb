{
 "cells": [
  {
   "cell_type": "code",
   "execution_count": 1,
   "id": "c6b25bcf-ddd7-416d-89bf-82860f2c8d7f",
   "metadata": {},
   "outputs": [
    {
     "name": "stdout",
     "output_type": "stream",
     "text": [
      "0\n"
     ]
    }
   ],
   "source": [
    "import os\n",
    "# os.environ[\"WANDB_SILENT\"] = \"true\"\n",
    "\n",
    "os.environ[\"CUDA_DEVICE_ORDER\"]=\"PCI_BUS_ID\"\n",
    "os.environ[\"CUDA_VISIBLE_DEVICES\"]=\"0\"\n",
    "print(os.environ[\"CUDA_VISIBLE_DEVICES\"])"
   ]
  },
  {
   "cell_type": "code",
   "execution_count": 2,
   "id": "93ef7d6c-2caa-457b-81e5-53f382d82549",
   "metadata": {},
   "outputs": [],
   "source": [
    "from pathlib import Path\n",
    "import pandas as pd\n",
    "import numpy as np"
   ]
  },
  {
   "cell_type": "code",
   "execution_count": 3,
   "id": "07c0c143-9610-4328-b8c3-d8c76dc2af29",
   "metadata": {},
   "outputs": [],
   "source": [
    "ROOT = Path('/gaueko0/users/nmishra/multiling_fludetection/data')\n",
    "translated_dir = ROOT.joinpath('translated')"
   ]
  },
  {
   "cell_type": "code",
   "execution_count": 4,
   "id": "31f231ae-fb1c-4cc6-86e9-feb1444d2a76",
   "metadata": {},
   "outputs": [
    {
     "data": {
      "text/plain": [
       "(4284, 6)"
      ]
     },
     "execution_count": 4,
     "metadata": {},
     "output_type": "execute_result"
    }
   ],
   "source": [
    "all_data_revised = pd.read_csv(ROOT.joinpath('all').joinpath('alldata_revised.csv'))\n",
    "all_data_revised.shape"
   ]
  },
  {
   "cell_type": "code",
   "execution_count": 5,
   "id": "8295b197-c3e6-4907-8f1c-77cc5f2c9233",
   "metadata": {},
   "outputs": [],
   "source": [
    "def save_revised_annotations(all_data_revised, translated_dir, dir, original, revised):\n",
    "\n",
    "    # take original translation file\n",
    "    dir_path = translated_dir.joinpath(original).joinpath(dir) \n",
    "    all_files = [i for i in dir_path.glob(\"*.csv\")]             \n",
    "    print(f'number of files: {len(all_files)}')\n",
    "\n",
    "    # write to revised folder\n",
    "    OUT_PATH = translated_dir.joinpath(revised).joinpath(dir)\n",
    "    OUT_PATH.mkdir(parents=True, exist_ok=True)\n",
    "    \n",
    "    for idx in range(len(all_files)):\n",
    "        file = all_files[idx]\n",
    "        print(file)                     \n",
    "        translated_df = pd.read_csv(all_files[idx])    # read first translation file\n",
    "        print(translated_df.shape)\n",
    "\n",
    "        # drop original annotation and get new annotation only for ids that exist in the new file\n",
    "        translated_df_revised = all_data_revised[['id','final_annotation']].merge(translated_df.drop('final_annotation', axis=1), on='id')\n",
    "        print(translated_df_revised['final_annotation'].value_counts())\n",
    "        print(translated_df_revised.shape)\n",
    "\n",
    "        #save\n",
    "        print(OUT_PATH.joinpath(all_files[idx].name))\n",
    "        translated_df_revised.to_csv(OUT_PATH.joinpath(all_files[idx].name), index=False)\n",
    "        print(f'done for file {idx}/n')"
   ]
  },
  {
   "cell_type": "code",
   "execution_count": 6,
   "id": "3f19cdb1-b503-476d-b323-8df4c323f17c",
   "metadata": {},
   "outputs": [
    {
     "name": "stdout",
     "output_type": "stream",
     "text": [
      "number of files: 5\n",
      "/gaueko0/users/nmishra/multiling_fludetection/data/translated/originalcateg/many_to_one/tweets_translated_fr.csv\n",
      "(4400, 7)\n",
      "final_annotation\n",
      "3. Not Related to ILI or COVID-19 Infection    2587\n",
      "1. Likely ILI infection                        1697\n",
      "Name: count, dtype: int64\n",
      "(4284, 7)\n",
      "/gaueko0/users/nmishra/multiling_fludetection/data/translated/revisedcateg/many_to_one/tweets_translated_fr.csv\n",
      "done for file 0/n\n",
      "/gaueko0/users/nmishra/multiling_fludetection/data/translated/originalcateg/many_to_one/tweets_translated_de.csv\n",
      "(4400, 7)\n",
      "final_annotation\n",
      "3. Not Related to ILI or COVID-19 Infection    2587\n",
      "1. Likely ILI infection                        1697\n",
      "Name: count, dtype: int64\n",
      "(4284, 7)\n",
      "/gaueko0/users/nmishra/multiling_fludetection/data/translated/revisedcateg/many_to_one/tweets_translated_de.csv\n",
      "done for file 1/n\n",
      "/gaueko0/users/nmishra/multiling_fludetection/data/translated/originalcateg/many_to_one/tweets_translated_it.csv\n",
      "(4400, 7)\n",
      "final_annotation\n",
      "3. Not Related to ILI or COVID-19 Infection    2587\n",
      "1. Likely ILI infection                        1697\n",
      "Name: count, dtype: int64\n",
      "(4284, 7)\n",
      "/gaueko0/users/nmishra/multiling_fludetection/data/translated/revisedcateg/many_to_one/tweets_translated_it.csv\n",
      "done for file 2/n\n",
      "/gaueko0/users/nmishra/multiling_fludetection/data/translated/originalcateg/many_to_one/tweets_translated_en.csv\n",
      "(4400, 7)\n",
      "final_annotation\n",
      "3. Not Related to ILI or COVID-19 Infection    2587\n",
      "1. Likely ILI infection                        1697\n",
      "Name: count, dtype: int64\n",
      "(4284, 7)\n",
      "/gaueko0/users/nmishra/multiling_fludetection/data/translated/revisedcateg/many_to_one/tweets_translated_en.csv\n",
      "done for file 3/n\n",
      "/gaueko0/users/nmishra/multiling_fludetection/data/translated/originalcateg/many_to_one/tweets_translated_es.csv\n",
      "(4400, 7)\n",
      "final_annotation\n",
      "3. Not Related to ILI or COVID-19 Infection    2587\n",
      "1. Likely ILI infection                        1697\n",
      "Name: count, dtype: int64\n",
      "(4284, 7)\n",
      "/gaueko0/users/nmishra/multiling_fludetection/data/translated/revisedcateg/many_to_one/tweets_translated_es.csv\n",
      "done for file 4/n\n",
      "number of files: 5\n",
      "/gaueko0/users/nmishra/multiling_fludetection/data/translated/originalcateg/one_to_many/es_tweets_translated.csv\n",
      "(6000, 7)\n",
      "final_annotation\n",
      "3. Not Related to ILI or COVID-19 Infection    3000\n",
      "1. Likely ILI infection                        2820\n",
      "Name: count, dtype: int64\n",
      "(5820, 7)\n",
      "/gaueko0/users/nmishra/multiling_fludetection/data/translated/revisedcateg/one_to_many/es_tweets_translated.csv\n",
      "done for file 0/n\n",
      "/gaueko0/users/nmishra/multiling_fludetection/data/translated/originalcateg/one_to_many/it_tweets_translated.csv\n",
      "(5000, 7)\n",
      "final_annotation\n",
      "3. Not Related to ILI or COVID-19 Infection    4240\n",
      "1. Likely ILI infection                         740\n",
      "Name: count, dtype: int64\n",
      "(4980, 7)\n",
      "/gaueko0/users/nmishra/multiling_fludetection/data/translated/revisedcateg/one_to_many/it_tweets_translated.csv\n",
      "done for file 1/n\n",
      "/gaueko0/users/nmishra/multiling_fludetection/data/translated/originalcateg/one_to_many/de_tweets_translated.csv\n",
      "(5000, 7)\n",
      "final_annotation\n",
      "3. Not Related to ILI or COVID-19 Infection    2460\n",
      "1. Likely ILI infection                        2375\n",
      "Name: count, dtype: int64\n",
      "(4835, 7)\n",
      "/gaueko0/users/nmishra/multiling_fludetection/data/translated/revisedcateg/one_to_many/de_tweets_translated.csv\n",
      "done for file 2/n\n",
      "/gaueko0/users/nmishra/multiling_fludetection/data/translated/originalcateg/one_to_many/fr_tweets_translated.csv\n",
      "(5000, 7)\n",
      "final_annotation\n",
      "3. Not Related to ILI or COVID-19 Infection    2700\n",
      "1. Likely ILI infection                        2105\n",
      "Name: count, dtype: int64\n",
      "(4805, 7)\n",
      "/gaueko0/users/nmishra/multiling_fludetection/data/translated/revisedcateg/one_to_many/fr_tweets_translated.csv\n",
      "done for file 3/n\n",
      "/gaueko0/users/nmishra/multiling_fludetection/data/translated/originalcateg/one_to_many/en_tweets_translated.csv\n",
      "(1000, 7)\n",
      "final_annotation\n",
      "3. Not Related to ILI or COVID-19 Infection    535\n",
      "1. Likely ILI infection                        445\n",
      "Name: count, dtype: int64\n",
      "(980, 7)\n",
      "/gaueko0/users/nmishra/multiling_fludetection/data/translated/revisedcateg/one_to_many/en_tweets_translated.csv\n",
      "done for file 4/n\n"
     ]
    }
   ],
   "source": [
    "save_revised_annotations(all_data_revised, translated_dir, dir='many_to_one', original='originalcateg', revised='revisedcateg')\n",
    "save_revised_annotations(all_data_revised, translated_dir, dir='one_to_many', original='originalcateg', revised='revisedcateg')"
   ]
  },
  {
   "cell_type": "code",
   "execution_count": null,
   "id": "992b997e-8fdd-42c3-870d-10470fe4a2f0",
   "metadata": {},
   "outputs": [],
   "source": []
  }
 ],
 "metadata": {
  "kernelspec": {
   "display_name": "mari_kernel",
   "language": "python",
   "name": "mari_kernel"
  },
  "language_info": {
   "codemirror_mode": {
    "name": "ipython",
    "version": 3
   },
   "file_extension": ".py",
   "mimetype": "text/x-python",
   "name": "python",
   "nbconvert_exporter": "python",
   "pygments_lexer": "ipython3",
   "version": "3.9.16"
  }
 },
 "nbformat": 4,
 "nbformat_minor": 5
}
