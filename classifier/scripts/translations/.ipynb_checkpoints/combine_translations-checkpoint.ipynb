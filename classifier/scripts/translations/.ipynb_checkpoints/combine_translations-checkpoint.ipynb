{
 "cells": [
  {
   "cell_type": "code",
   "execution_count": 1,
   "id": "46f538e9-bf8d-4f6c-ba64-cd1ba86ef0a8",
   "metadata": {},
   "outputs": [],
   "source": [
    "import json\n",
    "from pathlib import Path\n",
    "import pandas as pd\n",
    "import numpy as np"
   ]
  },
  {
   "cell_type": "code",
   "execution_count": 112,
   "id": "33c0a3b4-ca66-4eaa-a6a6-4bc1df50de5e",
   "metadata": {},
   "outputs": [],
   "source": [
    "ROOT = Path('/gaueko0/users/nmishra/multiling_fludetection/data')\n",
    "translated_dir = ROOT.joinpath('translated')"
   ]
  },
  {
   "cell_type": "code",
   "execution_count": 116,
   "id": "d09355e3-fa81-4cc2-b593-66c09428f4e1",
   "metadata": {},
   "outputs": [
    {
     "name": "stdout",
     "output_type": "stream",
     "text": [
      "['es']\n"
     ]
    },
    {
     "data": {
      "text/plain": [
       "[PosixPath('/gaueko0/users/nmishra/multiling_fludetection/data/translated/fr_translatedto_en.jsonl'),\n",
       " PosixPath('/gaueko0/users/nmishra/multiling_fludetection/data/translated/fr_translatedto_it.jsonl'),\n",
       " PosixPath('/gaueko0/users/nmishra/multiling_fludetection/data/translated/de_translatedto_en.jsonl'),\n",
       " PosixPath('/gaueko0/users/nmishra/multiling_fludetection/data/translated/es_translatedto_fr.jsonl'),\n",
       " PosixPath('/gaueko0/users/nmishra/multiling_fludetection/data/translated/de_translatedto_it.jsonl'),\n",
       " PosixPath('/gaueko0/users/nmishra/multiling_fludetection/data/translated/es_translatedto_en.jsonl'),\n",
       " PosixPath('/gaueko0/users/nmishra/multiling_fludetection/data/translated/fr_translatedto_es.jsonl'),\n",
       " PosixPath('/gaueko0/users/nmishra/multiling_fludetection/data/translated/de_translatedto_fr.jsonl'),\n",
       " PosixPath('/gaueko0/users/nmishra/multiling_fludetection/data/translated/de_translatedto_es.jsonl'),\n",
       " PosixPath('/gaueko0/users/nmishra/multiling_fludetection/data/translated/it_translatedto_fr.jsonl'),\n",
       " PosixPath('/gaueko0/users/nmishra/multiling_fludetection/data/translated/es_translatedto_it.jsonl'),\n",
       " PosixPath('/gaueko0/users/nmishra/multiling_fludetection/data/translated/it_translatedto_es.jsonl'),\n",
       " PosixPath('/gaueko0/users/nmishra/multiling_fludetection/data/translated/es_translatedto_de.jsonl'),\n",
       " PosixPath('/gaueko0/users/nmishra/multiling_fludetection/data/translated/fr_translatedto_de.jsonl'),\n",
       " PosixPath('/gaueko0/users/nmishra/multiling_fludetection/data/translated/it_translatedto_de.jsonl'),\n",
       " PosixPath('/gaueko0/users/nmishra/multiling_fludetection/data/translated/it_translatedto_en.jsonl')]"
      ]
     },
     "execution_count": 116,
     "metadata": {},
     "output_type": "execute_result"
    }
   ],
   "source": [
    "all_data = pd.read_csv(ROOT.joinpath('all').joinpath('alldata.csv'))\n",
    "languages = tuple(all_data['lang'].unique())\n",
    "languages = ['es']\n",
    "print(languages)\n",
    "translated_files = [i for i in translated_dir.glob('*.jsonl') if 'translatedto' in i.stem]\n",
    "translated_files"
   ]
  },
  {
   "cell_type": "code",
   "execution_count": 118,
   "id": "e233a7ee-ec19-451d-a5d4-b47743113a92",
   "metadata": {},
   "outputs": [
    {
     "name": "stdout",
     "output_type": "stream",
     "text": [
      "es\n",
      "(1200, 6)\n",
      "/gaueko0/users/nmishra/multiling_fludetection/data/translated/es_translatedto_fr.jsonl\n",
      "(1200, 3)\n",
      "(494, 6)\n"
     ]
    }
   ],
   "source": [
    "translations = {}\n",
    "for lang in languages:\n",
    "    print(lang)\n",
    "    lang_df = all_data[all_data['lang']==lang]\n",
    "    print(lang_df.shape)\n",
    "    lang_files = [file for file in translated_files if file.stem.startswith(lang)]\n",
    "    translatedto = [file.stem[-2:] for file in lang_files]\n",
    "    tr_lang_df = []\n",
    "    for file in lang_files:\n",
    "        if 'fr' in file.stem:\n",
    "            print(file)\n",
    "            translated_df = pd.read_json(file, lines=True, encoding='utf-8', dtype={'id': 'int64'})\n",
    "            translated_df['lang'] = file.stem[-2:]\n",
    "            print(translated_df.shape)\n",
    "            translated_df = translated_df.merge(lang_df[['id', 'year', 'final_annotation', 'overlap']].copy(), on='id')\n",
    "            translated_df.rename(columns={'translated_tweet':'tweet'}, inplace=True)\n",
    "            print(translated_df.shape)\n",
    "    \n",
    "    # tr_lang_df.append(translated_df)\n",
    "    # tr_lang_df = pd.concat(tr_lang_df)\n",
    "    # tr_lang_df['source_lang'] = t\n",
    "        \n",
    "#     # translations[lang] = translations[lang].append(all_data[all_data['lang']==i])\n",
    "# translations"
   ]
  },
  {
   "cell_type": "code",
   "execution_count": 81,
   "id": "0b1714bb-2fe6-438c-9294-6fd3f45e80f0",
   "metadata": {},
   "outputs": [
    {
     "data": {
      "text/html": [
       "<div>\n",
       "<style scoped>\n",
       "    .dataframe tbody tr th:only-of-type {\n",
       "        vertical-align: middle;\n",
       "    }\n",
       "\n",
       "    .dataframe tbody tr th {\n",
       "        vertical-align: top;\n",
       "    }\n",
       "\n",
       "    .dataframe thead th {\n",
       "        text-align: right;\n",
       "    }\n",
       "</style>\n",
       "<table border=\"1\" class=\"dataframe\">\n",
       "  <thead>\n",
       "    <tr style=\"text-align: right;\">\n",
       "      <th></th>\n",
       "      <th>id</th>\n",
       "      <th>translated_tweet</th>\n",
       "      <th>lang</th>\n",
       "      <th>year</th>\n",
       "      <th>final_annotation</th>\n",
       "      <th>overlap</th>\n",
       "    </tr>\n",
       "  </thead>\n",
       "  <tbody>\n",
       "    <tr>\n",
       "      <th>0</th>\n",
       "      <td>1068770080954216448</td>\n",
       "      <td>I'm almost sorry I went out last night and mis...</td>\n",
       "      <td>en</td>\n",
       "      <td>2018</td>\n",
       "      <td>3. Not Related to ILI or COVID-19 Infection</td>\n",
       "      <td>1</td>\n",
       "    </tr>\n",
       "    <tr>\n",
       "      <th>1</th>\n",
       "      <td>1045982273504456704</td>\n",
       "      <td>@user Unfortunately, anxious chickens are many...</td>\n",
       "      <td>en</td>\n",
       "      <td>2018</td>\n",
       "      <td>3. Not Related to ILI or COVID-19 Infection</td>\n",
       "      <td>1</td>\n",
       "    </tr>\n",
       "    <tr>\n",
       "      <th>2</th>\n",
       "      <td>1061053559792435200</td>\n",
       "      <td>@user Ahahaha though you were always atypical ...</td>\n",
       "      <td>en</td>\n",
       "      <td>2018</td>\n",
       "      <td>3. Not Related to ILI or COVID-19 Infection</td>\n",
       "      <td>1</td>\n",
       "    </tr>\n",
       "    <tr>\n",
       "      <th>3</th>\n",
       "      <td>1061036514426212352</td>\n",
       "      <td>Today after months, with the last examination,...</td>\n",
       "      <td>en</td>\n",
       "      <td>2018</td>\n",
       "      <td>3. Not Related to ILI or COVID-19 Infection</td>\n",
       "      <td>1</td>\n",
       "    </tr>\n",
       "    <tr>\n",
       "      <th>4</th>\n",
       "      <td>1056848671910846464</td>\n",
       "      <td>@user @user these people make people laugh as ...</td>\n",
       "      <td>en</td>\n",
       "      <td>2018</td>\n",
       "      <td>3. Not Related to ILI or COVID-19 Infection</td>\n",
       "      <td>1</td>\n",
       "    </tr>\n",
       "    <tr>\n",
       "      <th>...</th>\n",
       "      <td>...</td>\n",
       "      <td>...</td>\n",
       "      <td>...</td>\n",
       "      <td>...</td>\n",
       "      <td>...</td>\n",
       "      <td>...</td>\n",
       "    </tr>\n",
       "    <tr>\n",
       "      <th>405</th>\n",
       "      <td>1628780390704873472</td>\n",
       "      <td>@user It may be a reaction to any medicine tak...</td>\n",
       "      <td>en</td>\n",
       "      <td>2023</td>\n",
       "      <td>3. Not Related to ILI or COVID-19 Infection</td>\n",
       "      <td>0</td>\n",
       "    </tr>\n",
       "    <tr>\n",
       "      <th>406</th>\n",
       "      <td>1627980409672806400</td>\n",
       "      <td>@user @user A bit of history: at the end of th...</td>\n",
       "      <td>en</td>\n",
       "      <td>2023</td>\n",
       "      <td>3. Not Related to ILI or COVID-19 Infection</td>\n",
       "      <td>0</td>\n",
       "    </tr>\n",
       "    <tr>\n",
       "      <th>407</th>\n",
       "      <td>1635992287149686784</td>\n",
       "      <td>It comforts me to know that the great Prof #Pa...</td>\n",
       "      <td>en</td>\n",
       "      <td>2023</td>\n",
       "      <td>3. Not Related to ILI or COVID-19 Infection</td>\n",
       "      <td>0</td>\n",
       "    </tr>\n",
       "    <tr>\n",
       "      <th>408</th>\n",
       "      <td>1631445097094029312</td>\n",
       "      <td>@user @user Masquerade that given the dead who...</td>\n",
       "      <td>en</td>\n",
       "      <td>2023</td>\n",
       "      <td>3. Not Related to ILI or COVID-19 Infection</td>\n",
       "      <td>0</td>\n",
       "    </tr>\n",
       "    <tr>\n",
       "      <th>409</th>\n",
       "      <td>1620540871249891328</td>\n",
       "      <td>@user We close big time, I am still sore, husb...</td>\n",
       "      <td>en</td>\n",
       "      <td>2023</td>\n",
       "      <td>1. Likely ILI infection</td>\n",
       "      <td>0</td>\n",
       "    </tr>\n",
       "  </tbody>\n",
       "</table>\n",
       "<p>410 rows × 6 columns</p>\n",
       "</div>"
      ],
      "text/plain": [
       "                      id                                   translated_tweet  \\\n",
       "0    1068770080954216448  I'm almost sorry I went out last night and mis...   \n",
       "1    1045982273504456704  @user Unfortunately, anxious chickens are many...   \n",
       "2    1061053559792435200  @user Ahahaha though you were always atypical ...   \n",
       "3    1061036514426212352  Today after months, with the last examination,...   \n",
       "4    1056848671910846464  @user @user these people make people laugh as ...   \n",
       "..                   ...                                                ...   \n",
       "405  1628780390704873472  @user It may be a reaction to any medicine tak...   \n",
       "406  1627980409672806400  @user @user A bit of history: at the end of th...   \n",
       "407  1635992287149686784  It comforts me to know that the great Prof #Pa...   \n",
       "408  1631445097094029312  @user @user Masquerade that given the dead who...   \n",
       "409  1620540871249891328  @user We close big time, I am still sore, husb...   \n",
       "\n",
       "    lang  year                             final_annotation  overlap  \n",
       "0     en  2018  3. Not Related to ILI or COVID-19 Infection        1  \n",
       "1     en  2018  3. Not Related to ILI or COVID-19 Infection        1  \n",
       "2     en  2018  3. Not Related to ILI or COVID-19 Infection        1  \n",
       "3     en  2018  3. Not Related to ILI or COVID-19 Infection        1  \n",
       "4     en  2018  3. Not Related to ILI or COVID-19 Infection        1  \n",
       "..   ...   ...                                          ...      ...  \n",
       "405   en  2023  3. Not Related to ILI or COVID-19 Infection        0  \n",
       "406   en  2023  3. Not Related to ILI or COVID-19 Infection        0  \n",
       "407   en  2023  3. Not Related to ILI or COVID-19 Infection        0  \n",
       "408   en  2023  3. Not Related to ILI or COVID-19 Infection        0  \n",
       "409   en  2023                      1. Likely ILI infection        0  \n",
       "\n",
       "[410 rows x 6 columns]"
      ]
     },
     "execution_count": 81,
     "metadata": {},
     "output_type": "execute_result"
    }
   ],
   "source": [
    "translated_df.merge(lang_df[['id', 'year', 'final_annotation', 'overlap']].copy(), on='id')"
   ]
  },
  {
   "cell_type": "code",
   "execution_count": 27,
   "id": "dc1790ae-0e78-4efc-a98d-19c981f6a320",
   "metadata": {},
   "outputs": [
    {
     "data": {
      "text/html": [
       "<div>\n",
       "<style scoped>\n",
       "    .dataframe tbody tr th:only-of-type {\n",
       "        vertical-align: middle;\n",
       "    }\n",
       "\n",
       "    .dataframe tbody tr th {\n",
       "        vertical-align: top;\n",
       "    }\n",
       "\n",
       "    .dataframe thead th {\n",
       "        text-align: right;\n",
       "    }\n",
       "</style>\n",
       "<table border=\"1\" class=\"dataframe\">\n",
       "  <thead>\n",
       "    <tr style=\"text-align: right;\">\n",
       "      <th></th>\n",
       "      <th>id</th>\n",
       "      <th>lang</th>\n",
       "      <th>year</th>\n",
       "      <th>tweet</th>\n",
       "      <th>final_annotation</th>\n",
       "      <th>overlap</th>\n",
       "    </tr>\n",
       "  </thead>\n",
       "  <tbody>\n",
       "    <tr>\n",
       "      <th>0</th>\n",
       "      <td>1070982282113179648</td>\n",
       "      <td>de</td>\n",
       "      <td>2018</td>\n",
       "      <td>Ich glaube ich bin sick erkältet, habe  mehrfa...</td>\n",
       "      <td>1. Likely ILI infection</td>\n",
       "      <td>1</td>\n",
       "    </tr>\n",
       "  </tbody>\n",
       "</table>\n",
       "</div>"
      ],
      "text/plain": [
       "                    id lang  year  \\\n",
       "0  1070982282113179648   de  2018   \n",
       "\n",
       "                                               tweet         final_annotation  \\\n",
       "0  Ich glaube ich bin sick erkältet, habe  mehrfa...  1. Likely ILI infection   \n",
       "\n",
       "   overlap  \n",
       "0        1  "
      ]
     },
     "execution_count": 27,
     "metadata": {},
     "output_type": "execute_result"
    }
   ],
   "source": [
    "all_data[all_data['id']==1070982282113179648]"
   ]
  },
  {
   "cell_type": "code",
   "execution_count": 20,
   "id": "aa012f65-f35e-49c1-8445-0924c0912a88",
   "metadata": {},
   "outputs": [
    {
     "data": {
      "text/html": [
       "<div>\n",
       "<style scoped>\n",
       "    .dataframe tbody tr th:only-of-type {\n",
       "        vertical-align: middle;\n",
       "    }\n",
       "\n",
       "    .dataframe tbody tr th {\n",
       "        vertical-align: top;\n",
       "    }\n",
       "\n",
       "    .dataframe thead th {\n",
       "        text-align: right;\n",
       "    }\n",
       "</style>\n",
       "<table border=\"1\" class=\"dataframe\">\n",
       "  <thead>\n",
       "    <tr style=\"text-align: right;\">\n",
       "      <th></th>\n",
       "      <th>id</th>\n",
       "      <th>translated_tweet</th>\n",
       "    </tr>\n",
       "  </thead>\n",
       "  <tbody>\n",
       "    <tr>\n",
       "      <th>2</th>\n",
       "      <td>105210144392097792</td>\n",
       "      <td>FLU: @user It was convenient to fall asleep de...</td>\n",
       "    </tr>\n",
       "    <tr>\n",
       "      <th>2</th>\n",
       "      <td>105210144392097792</td>\n",
       "      <td>GRIPPE: @user È stato comodo addormentarsi non...</td>\n",
       "    </tr>\n",
       "    <tr>\n",
       "      <th>2</th>\n",
       "      <td>105210144392097792</td>\n",
       "      <td>GRIPPE: @user Fue práctico para conciliar el s...</td>\n",
       "    </tr>\n",
       "    <tr>\n",
       "      <th>2</th>\n",
       "      <td>105210144392097792</td>\n",
       "      <td>GRIPPE: @user Das war praktisch, um trotz Grip...</td>\n",
       "    </tr>\n",
       "  </tbody>\n",
       "</table>\n",
       "</div>"
      ],
      "text/plain": [
       "                   id                                   translated_tweet\n",
       "2  105210144392097792  FLU: @user It was convenient to fall asleep de...\n",
       "2  105210144392097792  GRIPPE: @user È stato comodo addormentarsi non...\n",
       "2  105210144392097792  GRIPPE: @user Fue práctico para conciliar el s...\n",
       "2  105210144392097792  GRIPPE: @user Das war praktisch, um trotz Grip..."
      ]
     },
     "execution_count": 20,
     "metadata": {},
     "output_type": "execute_result"
    }
   ],
   "source": [
    "print(len(all_translated_data))\n",
    "all_translated_data = pd.concat(all_translated_data)\n",
    "print(all_translated_data.shape)\n",
    "all_translated_data.head()"
   ]
  },
  {
   "cell_type": "code",
   "execution_count": 5,
   "id": "7f8f87ba-3360-44c5-9171-151672e4f5f3",
   "metadata": {},
   "outputs": [
    {
     "data": {
      "text/plain": [
       "(18000, 2)"
      ]
     },
     "execution_count": 5,
     "metadata": {},
     "output_type": "execute_result"
    }
   ],
   "source": [
    "all_translated_data.shape"
   ]
  },
  {
   "cell_type": "code",
   "execution_count": 6,
   "id": "6d8e138a-9390-499a-ba4e-99ee87b93073",
   "metadata": {},
   "outputs": [
    {
     "name": "stdout",
     "output_type": "stream",
     "text": [
      "/gaueko0/users/nmishra/multiling_fludetection/data/translated/translation_es_to_it_err.jsonl\n",
      "/gaueko0/users/nmishra/multiling_fludetection/data/translated/fr_translatedto_en.jsonl\n",
      "/gaueko0/users/nmishra/multiling_fludetection/data/translated/fr_translatedto_it.jsonl\n",
      "/gaueko0/users/nmishra/multiling_fludetection/data/translated/de_translatedto_en.jsonl\n",
      "/gaueko0/users/nmishra/multiling_fludetection/data/translated/es_translatedto_fr.jsonl\n",
      "/gaueko0/users/nmishra/multiling_fludetection/data/translated/de_translatedto_it.jsonl\n",
      "/gaueko0/users/nmishra/multiling_fludetection/data/translated/es_translatedto_en.jsonl\n",
      "/gaueko0/users/nmishra/multiling_fludetection/data/translated/fr_translatedto_es.jsonl\n",
      "/gaueko0/users/nmishra/multiling_fludetection/data/translated/de_translatedto_fr.jsonl\n",
      "/gaueko0/users/nmishra/multiling_fludetection/data/translated/de_translatedto_es.jsonl\n",
      "/gaueko0/users/nmishra/multiling_fludetection/data/translated/it_translatedto_fr.jsonl\n",
      "/gaueko0/users/nmishra/multiling_fludetection/data/translated/es_translatedto_it.jsonl\n",
      "/gaueko0/users/nmishra/multiling_fludetection/data/translated/it_translatedto_es.jsonl\n",
      "/gaueko0/users/nmishra/multiling_fludetection/data/translated/es_translatedto_de.jsonl\n",
      "/gaueko0/users/nmishra/multiling_fludetection/data/translated/fr_translatedto_de.jsonl\n",
      "/gaueko0/users/nmishra/multiling_fludetection/data/translated/it_translatedto_de.jsonl\n",
      "/gaueko0/users/nmishra/multiling_fludetection/data/translated/it_translatedto_en.jsonl\n"
     ]
    }
   ],
   "source": [
    "for i in translated_dir.glob('*.jsonl'):\n",
    "    print(i)"
   ]
  },
  {
   "cell_type": "code",
   "execution_count": null,
   "id": "763d81eb-4763-40d4-9fba-788312240210",
   "metadata": {},
   "outputs": [],
   "source": []
  }
 ],
 "metadata": {
  "kernelspec": {
   "display_name": "Python 3 (ipykernel)",
   "language": "python",
   "name": "python3"
  },
  "language_info": {
   "codemirror_mode": {
    "name": "ipython",
    "version": 3
   },
   "file_extension": ".py",
   "mimetype": "text/x-python",
   "name": "python",
   "nbconvert_exporter": "python",
   "pygments_lexer": "ipython3",
   "version": "3.9.16"
  }
 },
 "nbformat": 4,
 "nbformat_minor": 5
}
